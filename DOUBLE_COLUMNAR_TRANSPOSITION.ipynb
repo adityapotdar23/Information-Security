{
  "nbformat": 4,
  "nbformat_minor": 0,
  "metadata": {
    "colab": {
      "provenance": []
    },
    "kernelspec": {
      "name": "python3",
      "display_name": "Python 3"
    },
    "language_info": {
      "name": "python"
    }
  },
  "cells": [
    {
      "cell_type": "markdown",
      "source": [
        "**By Aditya Potdar**"
      ],
      "metadata": {
        "id": "OsdiavjExf67"
      }
    },
    {
      "cell_type": "code",
      "execution_count": 2,
      "metadata": {
        "colab": {
          "base_uri": "https://localhost:8080/"
        },
        "id": "Ac8T1YQzjKSJ",
        "outputId": "a1dd7e15-9121-4b59-8550-7517552db885"
      },
      "outputs": [
        {
          "output_type": "stream",
          "name": "stdout",
          "text": [
            "21 6\n"
          ]
        }
      ],
      "source": [
        "pt = \"COLUMNARTRANSPOSITION\"\n",
        "n_pt = len(pt) \n",
        "key = \"HEAVEN\" \n",
        "n_key = len(key) \n",
        "print(n_pt, n_key)"
      ]
    },
    {
      "cell_type": "code",
      "source": [
        "sorted_key = [] \n",
        "for i in key: \n",
        "  sorted_key.append(i) \n",
        "sorted_key.sort() "
      ],
      "metadata": {
        "id": "lHIYSsMdniP8"
      },
      "execution_count": 3,
      "outputs": []
    },
    {
      "cell_type": "code",
      "source": [
        "def encryption(pt, key, n_pt, n_key, sorted_key): \n",
        "\n",
        "  # Fill the matrix \n",
        "  if(n_pt%n_key!=0): \n",
        "    n_row = (n_pt//n_key) + 1 \n",
        "  else: \n",
        "    n_row = (n_pt//n_key) \n",
        "  \n",
        "  ec_mat = [[0 for i in range(n_key)] for j in range(n_row)] \n",
        "\n",
        "  k = 0 \n",
        "  for i in range(n_row): \n",
        "    for j in range(n_key): \n",
        "      if(k<=n_pt-1): \n",
        "        ec_mat[i][j] = pt[k] \n",
        "        k += 1 \n",
        "      else: \n",
        "        ec_mat[i][j] = 'X' \n",
        "\n",
        "  # print(ec_mat)\n",
        "  # Encryption \n",
        "  pos_r = 0 \n",
        "  visited = [] \n",
        "  ec = [] \n",
        "  for i in sorted_key: \n",
        "    ec_2 = [] \n",
        "    visited.append(i)\n",
        "    if sorted_key.count(i)>1: \n",
        "      if(i in visited and visited.count(i)>1): \n",
        "        continue \n",
        "      n_c = sorted_key.count(i)  \n",
        "      # print(n_c)\n",
        "      for m in range(n_c): \n",
        "        pos_1 = key.index(i, pos_r) \n",
        "        pos_r = pos_1 + 1\n",
        "        # print(pos_r)\n",
        "        for j in range(n_row): \n",
        "          ec_2.append(ec_mat[j][pos_1]) \n",
        "        ec.append(ec_2)\n",
        "        ec_2 = [] \n",
        "        # print(ec)\n",
        "      pos_r = 0\n",
        "    else: \n",
        "      pos = key.index(i) \n",
        "      for j in range(n_row): \n",
        "        ec_2.append(ec_mat[j][pos])\n",
        "    ec.append(ec_2) \n",
        "  ec.remove([])\n",
        "\n",
        "  ct = \"\"\n",
        "  for i in ec: \n",
        "    for j in i: \n",
        "      ct += j \n",
        "  \n",
        "  return ct"
      ],
      "metadata": {
        "id": "EhV1IyokjZwz"
      },
      "execution_count": 10,
      "outputs": []
    },
    {
      "cell_type": "code",
      "source": [
        "ct = encryption(pt, key, n_pt, n_key, sorted_key)"
      ],
      "metadata": {
        "id": "aVpafJRjmbhu"
      },
      "execution_count": 11,
      "outputs": []
    },
    {
      "cell_type": "code",
      "source": [
        "ct"
      ],
      "metadata": {
        "colab": {
          "base_uri": "https://localhost:8080/",
          "height": 36
        },
        "id": "GPDpPfF7n0CL",
        "outputId": "43739789-7ee1-44b4-dbbb-508f95f64d56"
      },
      "execution_count": 12,
      "outputs": [
        {
          "output_type": "execute_result",
          "data": {
            "text/plain": [
              "'LTONORPOMAIXCASINNTXURSX'"
            ],
            "application/vnd.google.colaboratory.intrinsic+json": {
              "type": "string"
            }
          },
          "metadata": {},
          "execution_count": 12
        }
      ]
    },
    {
      "cell_type": "code",
      "source": [
        "ct_2 = encryption(ct, key, len(ct), n_key, sorted_key) "
      ],
      "metadata": {
        "id": "YS9G5KHpmf73"
      },
      "execution_count": 13,
      "outputs": []
    },
    {
      "cell_type": "code",
      "source": [
        "ct_2"
      ],
      "metadata": {
        "colab": {
          "base_uri": "https://localhost:8080/",
          "height": 36
        },
        "id": "LDIHHCIEnIFF",
        "outputId": "b4e9bdda-b679-4824-d4c6-6d42f9a28af0"
      },
      "execution_count": 14,
      "outputs": [
        {
          "output_type": "execute_result",
          "data": {
            "text/plain": [
              "'OMSUTOAXOINSLPCTRXNXNAIR'"
            ],
            "application/vnd.google.colaboratory.intrinsic+json": {
              "type": "string"
            }
          },
          "metadata": {},
          "execution_count": 14
        }
      ]
    },
    {
      "cell_type": "code",
      "source": [
        "def decryption(ct, sorted_key): \n",
        "  ec_mat_dt = [[0 for i in range(len(sorted_key))] for j in range(len(ct)//len(sorted_key))]  \n",
        "  k = 0 \n",
        "  for i in range(len(sorted_key)): \n",
        "    if sorted_key.count(sorted_key[i])>1:\n",
        "      pos = key.index(sorted_key[i], i)  \n",
        "    else: \n",
        "      pos = key.index(sorted_key[i]) \n",
        "    for j in range(len(ct)//len(sorted_key)): \n",
        "      ec_mat_dt[j][pos] = ct[k] \n",
        "      k += 1 \n",
        "  \n",
        "  dt = \"\"\n",
        "  for i in ec_mat_dt: \n",
        "    for j in i: \n",
        "      dt += j \n",
        "  \n",
        "  return dt"
      ],
      "metadata": {
        "id": "cAuCrWcbnJp9"
      },
      "execution_count": 15,
      "outputs": []
    },
    {
      "cell_type": "code",
      "source": [
        "dt_1 = decryption(ct_2, sorted_key)"
      ],
      "metadata": {
        "id": "LMEjR6kspGyP"
      },
      "execution_count": 16,
      "outputs": []
    },
    {
      "cell_type": "code",
      "source": [
        "dt_1"
      ],
      "metadata": {
        "colab": {
          "base_uri": "https://localhost:8080/",
          "height": 36
        },
        "id": "6y9rPWy3W1jE",
        "outputId": "d2c54dac-fdff-41ed-fd43-bf97b60723fe"
      },
      "execution_count": 17,
      "outputs": [
        {
          "output_type": "execute_result",
          "data": {
            "text/plain": [
              "'LTONORPOMAIXCASINNTXURSX'"
            ],
            "application/vnd.google.colaboratory.intrinsic+json": {
              "type": "string"
            }
          },
          "metadata": {},
          "execution_count": 17
        }
      ]
    },
    {
      "cell_type": "code",
      "source": [
        "dt_2 = decryption(dt_1, sorted_key) \n",
        "dt_2"
      ],
      "metadata": {
        "colab": {
          "base_uri": "https://localhost:8080/",
          "height": 36
        },
        "id": "5MYQ-H-fP5oc",
        "outputId": "5a4f1a74-dd6e-4aad-bd6f-69f71d483978"
      },
      "execution_count": 18,
      "outputs": [
        {
          "output_type": "execute_result",
          "data": {
            "text/plain": [
              "'COLUMNARTRANSPOSITIONXXX'"
            ],
            "application/vnd.google.colaboratory.intrinsic+json": {
              "type": "string"
            }
          },
          "metadata": {},
          "execution_count": 18
        }
      ]
    },
    {
      "cell_type": "code",
      "source": [
        "dt = dt_2[:21] \n",
        "dt"
      ],
      "metadata": {
        "colab": {
          "base_uri": "https://localhost:8080/",
          "height": 36
        },
        "id": "BlAjdJZcVR6M",
        "outputId": "e3aad3ff-eb53-4299-9eed-2adbf4789000"
      },
      "execution_count": 19,
      "outputs": [
        {
          "output_type": "execute_result",
          "data": {
            "text/plain": [
              "'COLUMNARTRANSPOSITION'"
            ],
            "application/vnd.google.colaboratory.intrinsic+json": {
              "type": "string"
            }
          },
          "metadata": {},
          "execution_count": 19
        }
      ]
    }
  ]
}