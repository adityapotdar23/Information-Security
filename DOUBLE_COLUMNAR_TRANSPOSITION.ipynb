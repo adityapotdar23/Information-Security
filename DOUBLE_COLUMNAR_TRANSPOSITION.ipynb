{
  "nbformat": 4,
  "nbformat_minor": 0,
  "metadata": {
    "colab": {
      "provenance": []
    },
    "kernelspec": {
      "name": "python3",
      "display_name": "Python 3"
    },
    "language_info": {
      "name": "python"
    }
  },
  "cells": [
    {
      "cell_type": "markdown",
      "source": [
        "**By Aditya Potdar**"
      ],
      "metadata": {
        "id": "OsdiavjExf67"
      }
    },
    {
      "cell_type": "code",
      "execution_count": null,
      "metadata": {
        "colab": {
          "base_uri": "https://localhost:8080/"
        },
        "id": "Ac8T1YQzjKSJ",
        "outputId": "9ad52e40-7111-4485-ec78-c2d797425f17"
      },
      "outputs": [
        {
          "output_type": "stream",
          "name": "stdout",
          "text": [
            "21 6\n"
          ]
        }
      ],
      "source": [
        "pt = \"COLUMNARTRANSPOSITION\"\n",
        "n_pt = len(pt) \n",
        "key = \"HEAVEN\" \n",
        "n_key = len(key) \n",
        "print(n_pt, n_key)"
      ]
    },
    {
      "cell_type": "code",
      "source": [
        "sorted_key = [] \n",
        "for i in key: \n",
        "  sorted_key.append(i) \n",
        "sorted_key.sort() "
      ],
      "metadata": {
        "id": "lHIYSsMdniP8"
      },
      "execution_count": null,
      "outputs": []
    },
    {
      "cell_type": "code",
      "source": [
        "def encryption(pt, key, n_pt, n_key, sorted_key): \n",
        "\n",
        "  # Fill the matrix \n",
        "  if(n_pt%n_key!=0): \n",
        "    n_row = (n_pt//n_key) + 1 \n",
        "  else: \n",
        "    n_row = (n_pt//n_key) \n",
        "  \n",
        "  ec_mat = [[0 for i in range(n_key)] for j in range(n_row)] \n",
        "\n",
        "  k = 0 \n",
        "  for i in range(n_row): \n",
        "    for j in range(n_key): \n",
        "      if(k<=n_pt-1): \n",
        "        ec_mat[i][j] = pt[k] \n",
        "        k += 1 \n",
        "      else: \n",
        "        ec_mat[i][j] = 'X' \n",
        "\n",
        "  # print(ec_mat)\n",
        "  # Encryption \n",
        "  pos_c = 0 \n",
        "  visited = [] \n",
        "  ec = [] \n",
        "  for i in sorted_key: \n",
        "    ec_temp = [] \n",
        "    if sorted_key.count(i)>1: \n",
        "      # visited.append(i) \n",
        "      # if i in visited: \n",
        "        pos = key.index(i, pos_c) \n",
        "        pos_c = pos + 1 \n",
        "        for j in range(n_row): \n",
        "          ec_temp.append(ec_mat[j][pos]) \n",
        "    else: \n",
        "      pos = key.index(i) \n",
        "      for j in range(n_row): \n",
        "        ec_temp.append(ec_mat[j][pos])\n",
        "    ec.append(ec_temp) \n",
        "\n",
        "  ct = \"\"\n",
        "  for i in ec: \n",
        "    for j in i: \n",
        "      ct += j \n",
        "  \n",
        "  return ct"
      ],
      "metadata": {
        "id": "EhV1IyokjZwz"
      },
      "execution_count": null,
      "outputs": []
    },
    {
      "cell_type": "code",
      "source": [
        "ct = encryption(pt, key, n_pt, n_key, sorted_key)"
      ],
      "metadata": {
        "id": "aVpafJRjmbhu"
      },
      "execution_count": null,
      "outputs": []
    },
    {
      "cell_type": "code",
      "source": [
        "ct"
      ],
      "metadata": {
        "colab": {
          "base_uri": "https://localhost:8080/",
          "height": 36
        },
        "id": "GPDpPfF7n0CL",
        "outputId": "a0188ee3-96c6-4e58-ab65-eeb85aba88e7"
      },
      "execution_count": null,
      "outputs": [
        {
          "output_type": "execute_result",
          "data": {
            "text/plain": [
              "'LTONORPOMAIXCASINNTXURSX'"
            ],
            "application/vnd.google.colaboratory.intrinsic+json": {
              "type": "string"
            }
          },
          "metadata": {},
          "execution_count": 69
        }
      ]
    },
    {
      "cell_type": "code",
      "source": [
        "ct_2 = encryption(ct, key, len(ct), n_key, sorted_key) "
      ],
      "metadata": {
        "id": "YS9G5KHpmf73"
      },
      "execution_count": null,
      "outputs": []
    },
    {
      "cell_type": "code",
      "source": [
        "ct_2"
      ],
      "metadata": {
        "colab": {
          "base_uri": "https://localhost:8080/",
          "height": 36
        },
        "id": "LDIHHCIEnIFF",
        "outputId": "36a93a79-d4d3-4fdf-dfb7-32e54aeef4e5"
      },
      "execution_count": null,
      "outputs": [
        {
          "output_type": "execute_result",
          "data": {
            "text/plain": [
              "'OMSUTOAXOINSLPCTRXNXNAIR'"
            ],
            "application/vnd.google.colaboratory.intrinsic+json": {
              "type": "string"
            }
          },
          "metadata": {},
          "execution_count": 71
        }
      ]
    },
    {
      "cell_type": "code",
      "source": [
        "def decryption(ct, sorted_key): \n",
        "  ec_mat_dt = [[0 for i in range(len(sorted_key))] for j in range(len(ct)//len(sorted_key))]  \n",
        "  k = 0 \n",
        "  for i in range(len(sorted_key)): \n",
        "    if sorted_key.count(sorted_key[i])>1:\n",
        "      pos = key.index(sorted_key[i], i)  \n",
        "    else: \n",
        "      pos = key.index(sorted_key[i]) \n",
        "    for j in range(len(ct)//len(sorted_key)): \n",
        "      ec_mat_dt[j][pos] = ct[k] \n",
        "      k += 1 \n",
        "  \n",
        "  dt = \"\"\n",
        "  for i in ec_mat_dt: \n",
        "    for j in i: \n",
        "      dt += j \n",
        "  \n",
        "  return dt"
      ],
      "metadata": {
        "id": "cAuCrWcbnJp9"
      },
      "execution_count": null,
      "outputs": []
    },
    {
      "cell_type": "code",
      "source": [
        "dt_1 = decryption(ct_2, sorted_key)"
      ],
      "metadata": {
        "id": "LMEjR6kspGyP"
      },
      "execution_count": null,
      "outputs": []
    },
    {
      "cell_type": "code",
      "source": [
        "dt_1"
      ],
      "metadata": {
        "colab": {
          "base_uri": "https://localhost:8080/",
          "height": 36
        },
        "id": "6y9rPWy3W1jE",
        "outputId": "e707719e-37a2-4c61-f50c-37e97d527e0f"
      },
      "execution_count": null,
      "outputs": [
        {
          "output_type": "execute_result",
          "data": {
            "text/plain": [
              "'LTONORPOMAIXCASINNTXURSX'"
            ],
            "application/vnd.google.colaboratory.intrinsic+json": {
              "type": "string"
            }
          },
          "metadata": {},
          "execution_count": 74
        }
      ]
    },
    {
      "cell_type": "code",
      "source": [
        "dt_2 = decryption(dt_1, sorted_key) \n",
        "dt_2"
      ],
      "metadata": {
        "colab": {
          "base_uri": "https://localhost:8080/",
          "height": 36
        },
        "id": "5MYQ-H-fP5oc",
        "outputId": "199a5412-a8a2-46ed-b2ef-dcbe614a6e0f"
      },
      "execution_count": null,
      "outputs": [
        {
          "output_type": "execute_result",
          "data": {
            "text/plain": [
              "'COLUMNARTRANSPOSITIONXXX'"
            ],
            "application/vnd.google.colaboratory.intrinsic+json": {
              "type": "string"
            }
          },
          "metadata": {},
          "execution_count": 75
        }
      ]
    },
    {
      "cell_type": "code",
      "source": [
        "dt = dt_2[:21] \n",
        "dt"
      ],
      "metadata": {
        "colab": {
          "base_uri": "https://localhost:8080/",
          "height": 36
        },
        "id": "BlAjdJZcVR6M",
        "outputId": "8e79043c-5329-4f72-a482-54aeee3f29f1"
      },
      "execution_count": null,
      "outputs": [
        {
          "output_type": "execute_result",
          "data": {
            "text/plain": [
              "'COLUMNARTRANSPOSITION'"
            ],
            "application/vnd.google.colaboratory.intrinsic+json": {
              "type": "string"
            }
          },
          "metadata": {},
          "execution_count": 76
        }
      ]
    },
    {
      "cell_type": "code",
      "source": [],
      "metadata": {
        "id": "b9-82Ge7cu-9"
      },
      "execution_count": null,
      "outputs": []
    }
  ]
}