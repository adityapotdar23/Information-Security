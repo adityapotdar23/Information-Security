{
  "nbformat": 4,
  "nbformat_minor": 0,
  "metadata": {
    "colab": {
      "provenance": []
    },
    "kernelspec": {
      "name": "python3",
      "display_name": "Python 3"
    },
    "language_info": {
      "name": "python"
    }
  },
  "cells": [
    {
      "cell_type": "markdown",
      "source": [
        "**By Aditya Potdar**"
      ],
      "metadata": {
        "id": "f4mglvzpYn33"
      }
    },
    {
      "cell_type": "code",
      "execution_count": 1,
      "metadata": {
        "id": "qfIdpvEWebHh"
      },
      "outputs": [],
      "source": [
        "import hashlib"
      ]
    },
    {
      "cell_type": "code",
      "source": [
        "print(\"Enter a paragraph : \")\n",
        "s = input()\n",
        "l = s.split(\".\")\n",
        "l"
      ],
      "metadata": {
        "colab": {
          "base_uri": "https://localhost:8080/"
        },
        "id": "zoaMhlvlegbt",
        "outputId": "25229432-2a94-49b0-d914-73de352dc4ed"
      },
      "execution_count": 2,
      "outputs": [
        {
          "name": "stdout",
          "output_type": "stream",
          "text": [
            "Enter a paragraph : \n",
            "I like spending time on the wicket. And once you are wearing the Indian jersey, it becomes more special. We play to win but we missed by two shots. Overall, I am happy with my contribution\n"
          ]
        },
        {
          "output_type": "execute_result",
          "data": {
            "text/plain": [
              "['I like spending time on the wicket',\n",
              " ' And once you are wearing the Indian jersey, it becomes more special',\n",
              " ' We play to win but we missed by two shots',\n",
              " ' Overall, I am happy with my contribution']"
            ]
          },
          "metadata": {},
          "execution_count": 2
        }
      ]
    },
    {
      "cell_type": "code",
      "source": [
        "h = hashlib.sha1()"
      ],
      "metadata": {
        "id": "bfzVd_MUflNw"
      },
      "execution_count": 4,
      "outputs": []
    },
    {
      "cell_type": "code",
      "source": [
        "hash_values = []"
      ],
      "metadata": {
        "id": "nXLDuwfKfwa4"
      },
      "execution_count": 5,
      "outputs": []
    },
    {
      "cell_type": "code",
      "source": [
        "for i in l:\n",
        "  h.update(i.encode('utf-8'))\n",
        "  hash_values.append(h.hexdigest())"
      ],
      "metadata": {
        "id": "BPJMdmoyfOv5"
      },
      "execution_count": 6,
      "outputs": []
    },
    {
      "cell_type": "code",
      "source": [
        "hash_values"
      ],
      "metadata": {
        "colab": {
          "base_uri": "https://localhost:8080/"
        },
        "id": "cQTgTRSCf7cX",
        "outputId": "ed68aec0-2449-4b72-f135-ea1242adc6ae"
      },
      "execution_count": 7,
      "outputs": [
        {
          "output_type": "execute_result",
          "data": {
            "text/plain": [
              "['ea041d3c050295bdfdfef46a289600d2f26d5c4e',\n",
              " '823a0c187ad2affb5aaa7da3569e9df8974f522d',\n",
              " '8673649421da63ea2fe43054f390cba5d8e7831b',\n",
              " '321f992964bffbcd300376bca544e7c94af89016']"
            ]
          },
          "metadata": {},
          "execution_count": 7
        }
      ]
    },
    {
      "cell_type": "code",
      "source": [
        "def hash2(a, b):\n",
        "    # Reverse inputs before and after hashing\n",
        "    # due to big-endian / little-endian nonsense\n",
        "    \n",
        "    a1 = a[::-1]\n",
        "    b1 = b[::-1]\n",
        "    \n",
        "    contcat = a1+b1\n",
        "            \n",
        "    h = hashlib.sha1(hashlib.sha1(b\"concat\").digest()).digest()\n",
        "    return h"
      ],
      "metadata": {
        "id": "bApAjd8LhDTp"
      },
      "execution_count": 8,
      "outputs": []
    },
    {
      "cell_type": "code",
      "source": [
        "def merkle(hashList):\n",
        "    if len(hashList) == 1:\n",
        "        return hashList[0]\n",
        "    newHashList = []\n",
        "    # Process pairs. For odd length, the last is skipped\n",
        "    for i in range(0, len(hashList)-1, 2):\n",
        "        newHashList.append(hash2(hashList[i], hashList[i+1]))\n",
        "    if len(hashList) % 2 == 1: # odd, hash last item twice\n",
        "        newHashList.append(hash2(hashList[-1], hashList[-1]))\n",
        "    return merkle(newHashList)"
      ],
      "metadata": {
        "id": "VaWhNJ7Nf-Ir"
      },
      "execution_count": 9,
      "outputs": []
    },
    {
      "cell_type": "code",
      "source": [
        "print(merkle(hash_values))"
      ],
      "metadata": {
        "colab": {
          "base_uri": "https://localhost:8080/"
        },
        "id": "6nEioh1JgnAQ",
        "outputId": "05286db1-a05d-4540-afb2-8b923618fae7"
      },
      "execution_count": 10,
      "outputs": [
        {
          "output_type": "stream",
          "name": "stdout",
          "text": [
            "b'\\xeeS\\xf3\\xfbI\\xb9\\xa8t\\xa6\\x8e\\x1b\\x01\\xd9\\xf0\\x07A\\x96\\xeb\\xb0\\x18'\n"
          ]
        }
      ]
    }
  ]
}