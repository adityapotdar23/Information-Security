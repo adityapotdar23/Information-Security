{
  "nbformat": 4,
  "nbformat_minor": 0,
  "metadata": {
    "colab": {
      "provenance": []
    },
    "kernelspec": {
      "name": "python3",
      "display_name": "Python 3"
    },
    "language_info": {
      "name": "python"
    }
  },
  "cells": [
    {
      "cell_type": "markdown",
      "source": [
        "**By Aditya Potdar**"
      ],
      "metadata": {
        "id": "PH_AunUt5lmc"
      }
    },
    {
      "cell_type": "markdown",
      "source": [
        "Caesar Cipher Text Encryption\n",
        "\n"
      ],
      "metadata": {
        "id": "OY6f7vN74-T0"
      }
    },
    {
      "cell_type": "code",
      "execution_count": null,
      "metadata": {
        "colab": {
          "base_uri": "https://localhost:8080/",
          "height": 53
        },
        "id": "No7fowdkrumP",
        "outputId": "cd69fd97-f50f-4fa5-d3af-98e2fb490e73"
      },
      "outputs": [
        {
          "name": "stdout",
          "output_type": "stream",
          "text": [
            "Enter text: Aditya 27.\n"
          ]
        },
        {
          "output_type": "execute_result",
          "data": {
            "text/plain": [
              "'Dglwbd 50.'"
            ],
            "application/vnd.google.colaboratory.intrinsic+json": {
              "type": "string"
            }
          },
          "metadata": {},
          "execution_count": 22
        }
      ],
      "source": [
        "def caesar_cipher_enc(text, key=3):\n",
        "  string = '' \n",
        "  for i in text: \n",
        "    if i.isalpha(): \n",
        "      if i.isupper():\n",
        "        temp = (ord(i)-65+key)%26 \n",
        "        temp += 65\n",
        "        string += chr(temp) \n",
        "      else:\n",
        "        temp = (ord(i)-97+key)%26 \n",
        "        temp += 97 \n",
        "        string += chr(temp)\n",
        "    elif i.isdigit(): \n",
        "      temp = (ord(i)-48+key)%10\n",
        "      temp += 48 \n",
        "      string += chr(temp)\n",
        "    else: \n",
        "      string += i \n",
        "  return string \n",
        "text = str(input(\"Enter text: \"))\n",
        "caesar_cipher_enc(text, 3)"
      ]
    },
    {
      "cell_type": "markdown",
      "source": [
        "Caesar Cipher Text Decryption\n"
      ],
      "metadata": {
        "id": "kUzf3AFO5C_M"
      }
    },
    {
      "cell_type": "code",
      "source": [
        "def caesar_cipher_dec(text, key=3): \n",
        "  string = '' \n",
        "  for i in text: \n",
        "    if i.isalpha(): \n",
        "      if i.isupper(): \n",
        "        temp = (ord(i)-65-key+26)%26 \n",
        "        temp += 65 \n",
        "        string += chr(temp) \n",
        "      else: \n",
        "        temp = (ord(i)-97-key+26)%26 \n",
        "        temp += 97 \n",
        "        string += chr(temp) \n",
        "    elif i.isdigit(): \n",
        "      temp = (ord(i)-48-key+10)%10\n",
        "      temp += 48 \n",
        "      string += chr(temp)\n",
        "    else: \n",
        "      string += i \n",
        "  return string \n",
        "text = str(input(\"Enter text: \")) \n",
        "caesar_cipher_dec(text, 3)"
      ],
      "metadata": {
        "colab": {
          "base_uri": "https://localhost:8080/",
          "height": 53
        },
        "id": "nPr1Z3DUsWAH",
        "outputId": "a048076a-0e14-4332-a2f9-bb808041a500"
      },
      "execution_count": null,
      "outputs": [
        {
          "name": "stdout",
          "output_type": "stream",
          "text": [
            "Enter text: Dglwbd 50.\n"
          ]
        },
        {
          "output_type": "execute_result",
          "data": {
            "text/plain": [
              "'Aditya 27.'"
            ],
            "application/vnd.google.colaboratory.intrinsic+json": {
              "type": "string"
            }
          },
          "metadata": {},
          "execution_count": 1
        }
      ]
    },
    {
      "cell_type": "markdown",
      "source": [
        "Bruteforce\n"
      ],
      "metadata": {
        "id": "1ziHuA9p5F90"
      }
    },
    {
      "cell_type": "code",
      "source": [
        "given_encrypted_text = str(input()) \n",
        "for i in range(26): \n",
        "  print(f\"For key = {i}, Decrypted text=\", end=\"\\t\") \n",
        "  print(caesar_cipher_dec(given_encrypted_text, i)) \n",
        "  print()"
      ],
      "metadata": {
        "colab": {
          "base_uri": "https://localhost:8080/"
        },
        "id": "W0sdMefBt5f2",
        "outputId": "7ab280f5-fc12-481f-d9ba-2c1888216a5c"
      },
      "execution_count": null,
      "outputs": [
        {
          "output_type": "stream",
          "name": "stdout",
          "text": [
            "vkrmhzktiarftdxlmaxmxqmkhunlm\n",
            "For key = 0, Decrypted text=\tvkrmhzktiarftdxlmaxmxqmkhunlm\n",
            "\n",
            "For key = 1, Decrypted text=\tujqlgyjshzqescwklzwlwpljgtmkl\n",
            "\n",
            "For key = 2, Decrypted text=\ttipkfxirgypdrbvjkyvkvokifsljk\n",
            "\n",
            "For key = 3, Decrypted text=\tshojewhqfxocqauijxujunjherkij\n",
            "\n",
            "For key = 4, Decrypted text=\trgnidvgpewnbpzthiwtitmigdqjhi\n",
            "\n",
            "For key = 5, Decrypted text=\tqfmhcufodvmaoysghvshslhfcpigh\n",
            "\n",
            "For key = 6, Decrypted text=\tpelgbtenculznxrfgurgrkgebohfg\n",
            "\n",
            "For key = 7, Decrypted text=\todkfasdmbtkymwqeftqfqjfdangef\n",
            "\n",
            "For key = 8, Decrypted text=\tncjezrclasjxlvpdespepieczmfde\n",
            "\n",
            "For key = 9, Decrypted text=\tmbidyqbkzriwkuocdrodohdbylecd\n",
            "\n",
            "For key = 10, Decrypted text=\tlahcxpajyqhvjtnbcqncngcaxkdbc\n",
            "\n",
            "For key = 11, Decrypted text=\tkzgbwozixpguismabpmbmfbzwjcab\n",
            "\n",
            "For key = 12, Decrypted text=\tjyfavnyhwofthrlzaolaleayvibza\n",
            "\n",
            "For key = 13, Decrypted text=\tixezumxgvnesgqkyznkzkdzxuhayz\n",
            "\n",
            "For key = 14, Decrypted text=\thwdytlwfumdrfpjxymjyjcywtgzxy\n",
            "\n",
            "For key = 15, Decrypted text=\tgvcxskvetlcqeoiwxlixibxvsfywx\n",
            "\n",
            "For key = 16, Decrypted text=\tfubwrjudskbpdnhvwkhwhawurexvw\n",
            "\n",
            "For key = 17, Decrypted text=\tetavqitcrjaocmguvjgvgzvtqdwuv\n",
            "\n",
            "For key = 18, Decrypted text=\tdszuphsbqiznblftuifufyuspcvtu\n",
            "\n",
            "For key = 19, Decrypted text=\tcrytographymakesthetextrobust\n",
            "\n",
            "For key = 20, Decrypted text=\tbqxsnfqzogxlzjdrsgdsdwsqnatrs\n",
            "\n",
            "For key = 21, Decrypted text=\tapwrmepynfwkyicqrfcrcvrpmzsqr\n",
            "\n",
            "For key = 22, Decrypted text=\tzovqldoxmevjxhbpqebqbuqolyrpq\n",
            "\n",
            "For key = 23, Decrypted text=\tynupkcnwlduiwgaopdapatpnkxqop\n",
            "\n",
            "For key = 24, Decrypted text=\txmtojbmvkcthvfznoczozsomjwpno\n",
            "\n",
            "For key = 25, Decrypted text=\twlsnialujbsgueymnbynyrnlivomn\n",
            "\n"
          ]
        }
      ]
    },
    {
      "cell_type": "markdown",
      "source": [
        "**Advantages of Caesar cipher**\n",
        "* It is very easy to implement.\n",
        "* This method is the simplest method of cryptography.\n",
        "* Only one short key is used in its entire process.\n",
        "* If a system does not use complex coding techniques, it is the best method for it.\n",
        "* It requires only a few computing resources."
      ],
      "metadata": {
        "id": "76iB-jfR17vr"
      }
    },
    {
      "cell_type": "markdown",
      "source": [
        "**Disadvantages of Caesar cipher**\n",
        "\n",
        "* It can be easily hacked. It means the message encrypted by this method can be easily decrypted.\n",
        "* It provides very little security.\n",
        "* By looking at the pattern of letters in it, the entire message can be decrypted."
      ],
      "metadata": {
        "id": "9-GlJ1H62Iwz"
      }
    }
  ]
}