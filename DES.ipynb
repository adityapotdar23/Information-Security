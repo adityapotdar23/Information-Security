{
  "nbformat": 4,
  "nbformat_minor": 0,
  "metadata": {
    "colab": {
      "provenance": []
    },
    "kernelspec": {
      "name": "python3",
      "display_name": "Python 3"
    },
    "language_info": {
      "name": "python"
    }
  },
  "cells": [
    {
      "cell_type": "markdown",
      "source": [
        "**By Aditya Potdar**"
      ],
      "metadata": {
        "id": "EZbbwIFGyci2"
      }
    },
    {
      "cell_type": "markdown",
      "source": [
        "# **First Round**"
      ],
      "metadata": {
        "id": "wZ0WIvqgAFBq"
      }
    },
    {
      "cell_type": "markdown",
      "source": [
        "## 1. Take a 64 bit input"
      ],
      "metadata": {
        "id": "fmM9Xd4y9uzX"
      }
    },
    {
      "cell_type": "code",
      "source": [
        "string = \"adityapo\" \n",
        "pt = string.encode('utf-8') \n",
        "pt = pt.hex()"
      ],
      "metadata": {
        "id": "XUH5rqZK0i7Z"
      },
      "execution_count": 29,
      "outputs": []
    },
    {
      "cell_type": "code",
      "source": [
        "pt"
      ],
      "metadata": {
        "colab": {
          "base_uri": "https://localhost:8080/",
          "height": 36
        },
        "id": "fLMkxaFr003x",
        "outputId": "ede4d52f-b601-4e4e-ee2f-1878d1f11dad"
      },
      "execution_count": 30,
      "outputs": [
        {
          "output_type": "execute_result",
          "data": {
            "text/plain": [
              "'616469747961706f'"
            ],
            "application/vnd.google.colaboratory.intrinsic+json": {
              "type": "string"
            }
          },
          "metadata": {},
          "execution_count": 30
        }
      ]
    },
    {
      "cell_type": "code",
      "source": [
        "s_key = \"potdar\" \n",
        "key = s_key.encode('utf-8') \n",
        "key = key.hex()"
      ],
      "metadata": {
        "id": "zejSnRSK0sTR"
      },
      "execution_count": 31,
      "outputs": []
    },
    {
      "cell_type": "code",
      "source": [
        "key"
      ],
      "metadata": {
        "colab": {
          "base_uri": "https://localhost:8080/",
          "height": 36
        },
        "id": "eYmMU62e1AgD",
        "outputId": "b0f9066c-d7eb-40a2-9f47-006dab523431"
      },
      "execution_count": 32,
      "outputs": [
        {
          "output_type": "execute_result",
          "data": {
            "text/plain": [
              "'706f74646172'"
            ],
            "application/vnd.google.colaboratory.intrinsic+json": {
              "type": "string"
            }
          },
          "metadata": {},
          "execution_count": 32
        }
      ]
    },
    {
      "cell_type": "code",
      "source": [
        "bin_pt = bin(int(pt, 16)) [2:]\n",
        "bin_pt = bin_pt.zfill(64)\n",
        "bin_key = bin(int(key, 16))[2:]\n",
        "bin_key = bin_key.zfill(48)"
      ],
      "metadata": {
        "id": "-11c26fn_8Q3"
      },
      "execution_count": 33,
      "outputs": []
    },
    {
      "cell_type": "code",
      "source": [
        "bin_pt"
      ],
      "metadata": {
        "colab": {
          "base_uri": "https://localhost:8080/",
          "height": 36
        },
        "id": "oyqUMXbZ_-Mq",
        "outputId": "4b79c2e8-f6da-4065-a2e9-afb47c6c2d90"
      },
      "execution_count": 34,
      "outputs": [
        {
          "output_type": "execute_result",
          "data": {
            "text/plain": [
              "'0110000101100100011010010111010001111001011000010111000001101111'"
            ],
            "application/vnd.google.colaboratory.intrinsic+json": {
              "type": "string"
            }
          },
          "metadata": {},
          "execution_count": 34
        }
      ]
    },
    {
      "cell_type": "code",
      "source": [
        "bin_key"
      ],
      "metadata": {
        "colab": {
          "base_uri": "https://localhost:8080/",
          "height": 36
        },
        "id": "I7inJyiZ__iG",
        "outputId": "04442366-46d3-4283-a34e-53e48a5a8a30"
      },
      "execution_count": 35,
      "outputs": [
        {
          "output_type": "execute_result",
          "data": {
            "text/plain": [
              "'011100000110111101110100011001000110000101110010'"
            ],
            "application/vnd.google.colaboratory.intrinsic+json": {
              "type": "string"
            }
          },
          "metadata": {},
          "execution_count": 35
        }
      ]
    },
    {
      "cell_type": "markdown",
      "source": [
        "## 2. Divide it into 2 parts LPT and RPT of 32 bits each"
      ],
      "metadata": {
        "id": "-4KwYepE90t7"
      }
    },
    {
      "cell_type": "code",
      "source": [
        "lpt = bin_pt[:32]\n",
        "rpt = bin_pt[32:]\n",
        "print(len(lpt))\n",
        "print(len(rpt))"
      ],
      "metadata": {
        "colab": {
          "base_uri": "https://localhost:8080/"
        },
        "id": "ZA7pyPBj1Q_k",
        "outputId": "92661c75-c200-449f-d598-6b5dff315cb5"
      },
      "execution_count": 36,
      "outputs": [
        {
          "output_type": "stream",
          "name": "stdout",
          "text": [
            "32\n",
            "32\n"
          ]
        }
      ]
    },
    {
      "cell_type": "code",
      "source": [
        "lpt"
      ],
      "metadata": {
        "colab": {
          "base_uri": "https://localhost:8080/",
          "height": 36
        },
        "id": "Dk2BX74_17Zc",
        "outputId": "ee2b701b-c421-4dfc-f1ce-9a40ae7c3be4"
      },
      "execution_count": 37,
      "outputs": [
        {
          "output_type": "execute_result",
          "data": {
            "text/plain": [
              "'01100001011001000110100101110100'"
            ],
            "application/vnd.google.colaboratory.intrinsic+json": {
              "type": "string"
            }
          },
          "metadata": {},
          "execution_count": 37
        }
      ]
    },
    {
      "cell_type": "code",
      "source": [
        "rpt"
      ],
      "metadata": {
        "colab": {
          "base_uri": "https://localhost:8080/",
          "height": 36
        },
        "id": "yrZ_apOO19Oc",
        "outputId": "2f33a3b0-cdc4-49e9-f7a3-0293f53d40c3"
      },
      "execution_count": 38,
      "outputs": [
        {
          "output_type": "execute_result",
          "data": {
            "text/plain": [
              "'01111001011000010111000001101111'"
            ],
            "application/vnd.google.colaboratory.intrinsic+json": {
              "type": "string"
            }
          },
          "metadata": {},
          "execution_count": 38
        }
      ]
    },
    {
      "cell_type": "code",
      "source": [
        "rpt_div = [rpt[i:i+4] for i in range(0, 32, 4)] \n",
        "rpt_div"
      ],
      "metadata": {
        "colab": {
          "base_uri": "https://localhost:8080/"
        },
        "id": "CoFClrWZ1-Wc",
        "outputId": "7f399482-d49e-488c-dfbd-95eb3c0b7784"
      },
      "execution_count": 39,
      "outputs": [
        {
          "output_type": "execute_result",
          "data": {
            "text/plain": [
              "['0111', '1001', '0110', '0001', '0111', '0000', '0110', '1111']"
            ]
          },
          "metadata": {},
          "execution_count": 39
        }
      ]
    },
    {
      "cell_type": "markdown",
      "source": [
        "## 3.  Function Block"
      ],
      "metadata": {
        "id": "_AXT3awc672t"
      }
    },
    {
      "cell_type": "code",
      "source": [
        "s = [[14, 4, 13, 1, 2, 15, 11, 8, 3, 10, 6, 12, 5, 9, 0, 7],\n",
        "     [0, 15, 7, 4, 14, 2, 13, 1, 10, 6, 12, 11, 9, 5, 3, 8],\n",
        "     [4, 1, 14, 8, 13, 6, 2, 11, 15, 12, 9, 7, 3, 10, 5, 0],\n",
        "     [15, 12, 8, 2, 4, 9, 1, 7, 5, 11, 3, 14, 10, 0, 6, 13]]"
      ],
      "metadata": {
        "id": "aEYljin-oi_-"
      },
      "execution_count": 40,
      "outputs": []
    },
    {
      "cell_type": "code",
      "source": [
        "def function(rpt_div, bin_key): \n",
        "  rpt_div_copy = rpt_div.copy() \n",
        "  # Converting to 48 bits\n",
        "  for i in range(8):\n",
        "    if(i!=7 and i!=0):\n",
        "      rpt_div_copy[i] = rpt_div[i-1][-1] + rpt_div_copy[i] \n",
        "      rpt_div_copy[i] = rpt_div_copy[i] + rpt_div[i+1][0] \n",
        "    elif(i==0):\n",
        "      rpt_div_copy[0] = rpt_div[-1][-1] + rpt_div_copy[0] \n",
        "      rpt_div_copy[0] = rpt_div_copy[0] + rpt_div[i+1][0] \n",
        "    elif(i==7):\n",
        "      rpt_div_copy[7] = rpt_div[6][-1] + rpt_div_copy[7] \n",
        "      rpt_div_copy[7] = rpt_div_copy[7] + rpt_div[0][0]  \n",
        "  # Converting to string \n",
        "  rpt_div_bin = \"\" \n",
        "  for i in rpt_div_copy:\n",
        "    rpt_div_bin = rpt_div_bin + i \n",
        "  print(\"48-bit RPT after expansion: \", rpt_div_bin) \n",
        "\n",
        "  xor = \"\"\n",
        "  for i in range(len(rpt_div_bin)):\n",
        "    xor += str(int(rpt_div_bin[i])^int(bin_key[i])) \n",
        "  \n",
        "  print(\"XORed Result: \", xor) \n",
        "\n",
        "  # S-BOX \n",
        "  xor_div = [xor[i:i+6] for i in range(0, 48, 6)] \n",
        "  # print(xor_div)\n",
        "  xor_div_copy = [] \n",
        "  for i in xor_div: \n",
        "    x = i[0] + i[5]\n",
        "    y = i[1] + i[2] + i[3] + i[4]\n",
        "    row = int(x, 2)\n",
        "    column = int(y, 2)\n",
        "    # print(x) \n",
        "    num = s[row][column]\n",
        "    bin_num = bin(num)[2:].zfill(4)  \n",
        "    xor_div_copy.append(bin_num)\n",
        "  # print(xor_div_copy)\n",
        "  xor_div_copy1 = \"\"\n",
        "  for i in xor_div_copy: \n",
        "    xor_div_copy1 += i \n",
        "  return xor_div_copy1"
      ],
      "metadata": {
        "id": "kP_tChZY-Vyj"
      },
      "execution_count": 41,
      "outputs": []
    },
    {
      "cell_type": "code",
      "source": [
        "xor_div_copy1 = function(rpt_div, bin_key)"
      ],
      "metadata": {
        "colab": {
          "base_uri": "https://localhost:8080/"
        },
        "id": "MCVgIrkRASNW",
        "outputId": "edb1eb54-4afc-4944-ac99-e7914139efc6"
      },
      "execution_count": 42,
      "outputs": [
        {
          "output_type": "stream",
          "name": "stdout",
          "text": [
            "48-bit RPT after expansion:  101111110010101100000010101110100000001101011110\n",
            "XORed Result:  110011110100010001110110110111100110001000101100\n"
          ]
        }
      ]
    },
    {
      "cell_type": "code",
      "source": [
        "xor_div_copy1"
      ],
      "metadata": {
        "colab": {
          "base_uri": "https://localhost:8080/",
          "height": 36
        },
        "id": "kui9anbkAZR0",
        "outputId": "484c64fa-ce47-44f6-e7b2-0ab245266d46"
      },
      "execution_count": 43,
      "outputs": [
        {
          "output_type": "execute_result",
          "data": {
            "text/plain": [
              "'10111001101001111110100000100010'"
            ],
            "application/vnd.google.colaboratory.intrinsic+json": {
              "type": "string"
            }
          },
          "metadata": {},
          "execution_count": 43
        }
      ]
    },
    {
      "cell_type": "markdown",
      "source": [
        "## 4. Move out of the function block and XOR with 32 bit LPT"
      ],
      "metadata": {
        "id": "b-VUCnJ27H9r"
      }
    },
    {
      "cell_type": "code",
      "source": [
        "xor_div_copy1"
      ],
      "metadata": {
        "colab": {
          "base_uri": "https://localhost:8080/",
          "height": 36
        },
        "outputId": "97a44f6d-00e6-4064-bd24-9152c0329322",
        "id": "4nMQrJK5A86t"
      },
      "execution_count": 44,
      "outputs": [
        {
          "output_type": "execute_result",
          "data": {
            "text/plain": [
              "'10111001101001111110100000100010'"
            ],
            "application/vnd.google.colaboratory.intrinsic+json": {
              "type": "string"
            }
          },
          "metadata": {},
          "execution_count": 44
        }
      ]
    },
    {
      "cell_type": "code",
      "source": [
        "lpt"
      ],
      "metadata": {
        "colab": {
          "base_uri": "https://localhost:8080/",
          "height": 36
        },
        "id": "Tmc4uAMj7OKs",
        "outputId": "0755bfe2-7809-4812-ed02-fbc5ac30f7f7"
      },
      "execution_count": 45,
      "outputs": [
        {
          "output_type": "execute_result",
          "data": {
            "text/plain": [
              "'01100001011001000110100101110100'"
            ],
            "application/vnd.google.colaboratory.intrinsic+json": {
              "type": "string"
            }
          },
          "metadata": {},
          "execution_count": 45
        }
      ]
    },
    {
      "cell_type": "code",
      "source": [
        "o_4 = \"\" \n",
        "for i in range(len(lpt)): \n",
        "  r = int(lpt[i])^int(xor_div_copy1[i])\n",
        "  o_4 += str(r)\n",
        "o_4"
      ],
      "metadata": {
        "colab": {
          "base_uri": "https://localhost:8080/",
          "height": 36
        },
        "id": "1xkKVQdw7RS5",
        "outputId": "9a38167f-ee2a-45bd-84b6-c172b80845ca"
      },
      "execution_count": 46,
      "outputs": [
        {
          "output_type": "execute_result",
          "data": {
            "text/plain": [
              "'11011000110000111000000101010110'"
            ],
            "application/vnd.google.colaboratory.intrinsic+json": {
              "type": "string"
            }
          },
          "metadata": {},
          "execution_count": 46
        }
      ]
    },
    {
      "cell_type": "markdown",
      "source": [
        "## 5. Swap LPT and RPT"
      ],
      "metadata": {
        "id": "XxpT6ZZV-AO1"
      }
    },
    {
      "cell_type": "code",
      "source": [
        "lpt_2 = rpt \n",
        "rpt_2 = o_4 "
      ],
      "metadata": {
        "id": "B-R9fXBz8pHM"
      },
      "execution_count": 47,
      "outputs": []
    },
    {
      "cell_type": "markdown",
      "source": [
        "# **Second Round**"
      ],
      "metadata": {
        "id": "G5MwFhV8BHZa"
      }
    },
    {
      "cell_type": "code",
      "source": [
        "# Taking different key\n",
        "key_2 = '1066d7bf157c'"
      ],
      "metadata": {
        "id": "VRkO_j9nBJp8"
      },
      "execution_count": 48,
      "outputs": []
    },
    {
      "cell_type": "code",
      "source": [
        "bin_key_2 = bin(int(key_2, 16))[2:]\n",
        "bin_key_2 = bin_key_2.zfill(48)"
      ],
      "metadata": {
        "id": "epzm4EhaBs2G"
      },
      "execution_count": 49,
      "outputs": []
    },
    {
      "cell_type": "code",
      "source": [
        "bin_key_2"
      ],
      "metadata": {
        "colab": {
          "base_uri": "https://localhost:8080/",
          "height": 36
        },
        "id": "gSkvnawrBv6F",
        "outputId": "13289d20-6076-4228-c0e9-06c0621490ed"
      },
      "execution_count": 50,
      "outputs": [
        {
          "output_type": "execute_result",
          "data": {
            "text/plain": [
              "'000100000110011011010111101111110001010101111100'"
            ],
            "application/vnd.google.colaboratory.intrinsic+json": {
              "type": "string"
            }
          },
          "metadata": {},
          "execution_count": 50
        }
      ]
    },
    {
      "cell_type": "code",
      "source": [
        "lpt_2"
      ],
      "metadata": {
        "colab": {
          "base_uri": "https://localhost:8080/",
          "height": 36
        },
        "id": "mGD8xK0MB7QA",
        "outputId": "f9f9fcf3-01cd-4d52-f53b-08eec1869348"
      },
      "execution_count": 51,
      "outputs": [
        {
          "output_type": "execute_result",
          "data": {
            "text/plain": [
              "'01111001011000010111000001101111'"
            ],
            "application/vnd.google.colaboratory.intrinsic+json": {
              "type": "string"
            }
          },
          "metadata": {},
          "execution_count": 51
        }
      ]
    },
    {
      "cell_type": "code",
      "source": [
        "rpt_2"
      ],
      "metadata": {
        "colab": {
          "base_uri": "https://localhost:8080/",
          "height": 36
        },
        "id": "HlxHK3b-B8LO",
        "outputId": "c6aec58c-df53-4d5e-e9b3-b45785cea816"
      },
      "execution_count": 52,
      "outputs": [
        {
          "output_type": "execute_result",
          "data": {
            "text/plain": [
              "'11011000110000111000000101010110'"
            ],
            "application/vnd.google.colaboratory.intrinsic+json": {
              "type": "string"
            }
          },
          "metadata": {},
          "execution_count": 52
        }
      ]
    },
    {
      "cell_type": "code",
      "source": [
        "rpt_div_2 = [rpt_2[i:i+4] for i in range(0, 32, 4)] \n",
        "rpt_div_2"
      ],
      "metadata": {
        "colab": {
          "base_uri": "https://localhost:8080/"
        },
        "id": "9elfBgCFB-NU",
        "outputId": "b6bc0325-4fbb-4d77-8290-bdf18050c2e6"
      },
      "execution_count": 53,
      "outputs": [
        {
          "output_type": "execute_result",
          "data": {
            "text/plain": [
              "['1101', '1000', '1100', '0011', '1000', '0001', '0101', '0110']"
            ]
          },
          "metadata": {},
          "execution_count": 53
        }
      ]
    },
    {
      "cell_type": "code",
      "source": [
        "xor_div_copy2 = function(rpt_div_2, bin_key_2) \n",
        "xor_div_copy2"
      ],
      "metadata": {
        "colab": {
          "base_uri": "https://localhost:8080/",
          "height": 70
        },
        "id": "b3bJ0XRgCHZj",
        "outputId": "80fb2032-e4fb-4525-c894-9f13854405f0"
      },
      "execution_count": 54,
      "outputs": [
        {
          "output_type": "stream",
          "name": "stdout",
          "text": [
            "48-bit RPT after expansion:  011011110001011000000111110000000010101010101101\n",
            "XORed Result:  011111110111000011010000011111110011111111010001\n"
          ]
        },
        {
          "output_type": "execute_result",
          "data": {
            "text/plain": [
              "'10001110111100111000101111011010'"
            ],
            "application/vnd.google.colaboratory.intrinsic+json": {
              "type": "string"
            }
          },
          "metadata": {},
          "execution_count": 54
        }
      ]
    },
    {
      "cell_type": "code",
      "source": [
        "o_4_2= \"\" \n",
        "for i in range(len(lpt_2)): \n",
        "  r = int(lpt_2[i])^int(xor_div_copy2[i])\n",
        "  o_4_2 += str(r)\n",
        "o_4_2"
      ],
      "metadata": {
        "colab": {
          "base_uri": "https://localhost:8080/",
          "height": 36
        },
        "id": "-hCEGQFrCPUB",
        "outputId": "d4b697ec-3d18-4f21-b706-85d191610bde"
      },
      "execution_count": 55,
      "outputs": [
        {
          "output_type": "execute_result",
          "data": {
            "text/plain": [
              "'11110111100100101111101110110101'"
            ],
            "application/vnd.google.colaboratory.intrinsic+json": {
              "type": "string"
            }
          },
          "metadata": {},
          "execution_count": 55
        }
      ]
    },
    {
      "cell_type": "code",
      "source": [
        "# Swapping\n",
        "lpt_3 = rpt_2\n",
        "rpt_3 = o_4_2"
      ],
      "metadata": {
        "id": "-DpxRCViCZhL"
      },
      "execution_count": 56,
      "outputs": []
    },
    {
      "cell_type": "code",
      "source": [
        "print(\"64-bit ciphertext after 2 rounds: \", lpt_3 + rpt_3)"
      ],
      "metadata": {
        "colab": {
          "base_uri": "https://localhost:8080/"
        },
        "id": "TNB2Vo89Cr3P",
        "outputId": "4e6059b4-f92f-424f-e083-62ba044535fa"
      },
      "execution_count": 57,
      "outputs": [
        {
          "output_type": "stream",
          "name": "stdout",
          "text": [
            "64-bit ciphertext after 2 rounds:  1101100011000011100000010101011011110111100100101111101110110101\n"
          ]
        }
      ]
    },
    {
      "cell_type": "code",
      "source": [
        "c = []\n",
        "for i in range(0, 64, 8): \n",
        "  c.append((lpt_3+rpt_3)[i:i+8]) \n",
        "print(c)"
      ],
      "metadata": {
        "colab": {
          "base_uri": "https://localhost:8080/"
        },
        "id": "D-x0BOzh1WF1",
        "outputId": "76e80c2f-3c35-41dc-c964-1099b22ce2e9"
      },
      "execution_count": 58,
      "outputs": [
        {
          "output_type": "stream",
          "name": "stdout",
          "text": [
            "['11011000', '11000011', '10000001', '01010110', '11110111', '10010010', '11111011', '10110101']\n"
          ]
        }
      ]
    },
    {
      "cell_type": "code",
      "source": [
        "ascii = \"\" \n",
        "for i in c: \n",
        "  ascii += chr(int(i, 2)) \n",
        "ascii"
      ],
      "metadata": {
        "colab": {
          "base_uri": "https://localhost:8080/",
          "height": 36
        },
        "id": "0cq1WNu12lDz",
        "outputId": "25e7c4e3-6641-43c1-f688-9ceeda7e9f87"
      },
      "execution_count": 59,
      "outputs": [
        {
          "output_type": "execute_result",
          "data": {
            "text/plain": [
              "'ØÃ\\x81V÷\\x92ûµ'"
            ],
            "application/vnd.google.colaboratory.intrinsic+json": {
              "type": "string"
            }
          },
          "metadata": {},
          "execution_count": 59
        }
      ]
    }
  ]
}