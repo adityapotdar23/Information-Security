{
  "nbformat": 4,
  "nbformat_minor": 0,
  "metadata": {
    "colab": {
      "provenance": []
    },
    "kernelspec": {
      "name": "python3",
      "display_name": "Python 3"
    },
    "language_info": {
      "name": "python"
    }
  },
  "cells": [
    {
      "cell_type": "markdown",
      "source": [
        "**By Aditya Potdar**"
      ],
      "metadata": {
        "id": "5H5gRrTFoTQe"
      }
    },
    {
      "cell_type": "code",
      "source": [
        "def diffie_hellman(p, g, a, b): \n",
        "  x_a = (g**a)%p \n",
        "  x_b = (g**b)%p \n",
        "  a_k = (x_b**a)%p \n",
        "  b_k = (x_a**b)%p \n",
        "  if(a_k==b_k): \n",
        "    print(\"Alice and Bob share the same secret key.\")\n",
        "    print(\"Shared Secret key:\", a_k) \n",
        "  else: \n",
        "    print(\"Alice and Bob can't share a same secret key.\")"
      ],
      "metadata": {
        "id": "lMG-W-jHpDhK"
      },
      "execution_count": null,
      "outputs": []
    },
    {
      "cell_type": "code",
      "execution_count": null,
      "metadata": {
        "colab": {
          "base_uri": "https://localhost:8080/"
        },
        "id": "d0zg4qZQn8wd",
        "outputId": "607f9f80-e5f0-4d46-8a2f-4ffe94a33400"
      },
      "outputs": [
        {
          "name": "stdout",
          "output_type": "stream",
          "text": [
            "Enter value of P: 353\n",
            "Enter value of g: 3\n",
            "Enter private key (a) of Alice: 97\n",
            "Enter private key (b) of Bob: 233\n"
          ]
        }
      ],
      "source": [
        "p = int(input(\"Enter value of P: \")) \n",
        "g = int(input(\"Enter value of g: \")) \n",
        "a = int(input(\"Enter private key (a) of Alice: \"))\n",
        "b = int(input(\"Enter private key (b) of Bob: \")) "
      ]
    },
    {
      "cell_type": "code",
      "source": [
        "diffie_hellman(p, g, a, b)"
      ],
      "metadata": {
        "colab": {
          "base_uri": "https://localhost:8080/"
        },
        "id": "XKQPk_q_pilZ",
        "outputId": "a15045cf-55d7-4bda-9a23-98a7ce498547"
      },
      "execution_count": null,
      "outputs": [
        {
          "output_type": "stream",
          "name": "stdout",
          "text": [
            "Alice and Bob share the same secret key.\n",
            "Shared Secret key: 160\n"
          ]
        }
      ]
    }
  ]
}