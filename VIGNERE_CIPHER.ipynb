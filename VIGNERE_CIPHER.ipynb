{
  "nbformat": 4,
  "nbformat_minor": 0,
  "metadata": {
    "colab": {
      "provenance": []
    },
    "kernelspec": {
      "name": "python3",
      "display_name": "Python 3"
    },
    "language_info": {
      "name": "python"
    }
  },
  "cells": [
    {
      "cell_type": "markdown",
      "source": [
        "**By Aditya Potdar**"
      ],
      "metadata": {
        "id": "U-nKIKsvxiac"
      }
    },
    {
      "cell_type": "code",
      "execution_count": null,
      "metadata": {
        "id": "qitpvydCZ0Tw"
      },
      "outputs": [],
      "source": [
        "pt = \"VIGNERECIPHER\" \n",
        "key = \"ADITYA\" "
      ]
    },
    {
      "cell_type": "code",
      "source": [
        "final_key = key\n",
        "if(len(pt)!=len(key)): \n",
        "  for i in range(len(pt)-len(key)): \n",
        "    final_key += key[i%len(key)] \n",
        "print(final_key)"
      ],
      "metadata": {
        "colab": {
          "base_uri": "https://localhost:8080/"
        },
        "id": "sdqYtJ0saMov",
        "outputId": "9a97a22e-5a65-4279-feec-a89c94267b9a"
      },
      "execution_count": null,
      "outputs": [
        {
          "output_type": "stream",
          "name": "stdout",
          "text": [
            "ADITYAADITYAA\n"
          ]
        }
      ]
    },
    {
      "cell_type": "code",
      "source": [
        "pt"
      ],
      "metadata": {
        "colab": {
          "base_uri": "https://localhost:8080/",
          "height": 36
        },
        "id": "sjOxrdnAaw4X",
        "outputId": "998baf48-6c44-46dd-d014-e92c2e8152ca"
      },
      "execution_count": null,
      "outputs": [
        {
          "output_type": "execute_result",
          "data": {
            "text/plain": [
              "'VIGNERECIPHER'"
            ],
            "application/vnd.google.colaboratory.intrinsic+json": {
              "type": "string"
            }
          },
          "metadata": {},
          "execution_count": 3
        }
      ]
    },
    {
      "cell_type": "code",
      "source": [
        "final_key"
      ],
      "metadata": {
        "colab": {
          "base_uri": "https://localhost:8080/",
          "height": 36
        },
        "id": "qMY3oOPoayrn",
        "outputId": "601eeaad-e3a3-4782-e828-b13597cd8312"
      },
      "execution_count": null,
      "outputs": [
        {
          "output_type": "execute_result",
          "data": {
            "text/plain": [
              "'ADITYAADITYAA'"
            ],
            "application/vnd.google.colaboratory.intrinsic+json": {
              "type": "string"
            }
          },
          "metadata": {},
          "execution_count": 4
        }
      ]
    },
    {
      "cell_type": "code",
      "source": [
        "# ENCRYPTION \n",
        "ct = \"\"\n",
        "for i in range(len(pt)): \n",
        "  x = (ord(pt[i]) + ord(final_key[i]))%26 \n",
        "  x += ord('A') \n",
        "  ct += chr(x) \n",
        "ct"
      ],
      "metadata": {
        "colab": {
          "base_uri": "https://localhost:8080/",
          "height": 36
        },
        "id": "niNV_Gj0azZQ",
        "outputId": "ee134871-15a6-4142-fcb3-eca13eaf4b80"
      },
      "execution_count": null,
      "outputs": [
        {
          "output_type": "execute_result",
          "data": {
            "text/plain": [
              "'VLOGCREFQIFER'"
            ],
            "application/vnd.google.colaboratory.intrinsic+json": {
              "type": "string"
            }
          },
          "metadata": {},
          "execution_count": 5
        }
      ]
    },
    {
      "cell_type": "code",
      "source": [
        "# DECRYPTION \n",
        "dt = \"\" \n",
        "for i in range(len(ct)): \n",
        "  x = (ord(ct[i])-ord(final_key[i]) + 26)%26 \n",
        "  x += ord('A') \n",
        "  dt += chr(x) \n",
        "dt"
      ],
      "metadata": {
        "colab": {
          "base_uri": "https://localhost:8080/",
          "height": 36
        },
        "id": "DUEUzhPUbYm-",
        "outputId": "fa880758-dde7-4966-ff26-c74566585eff"
      },
      "execution_count": null,
      "outputs": [
        {
          "output_type": "execute_result",
          "data": {
            "text/plain": [
              "'VIGNERECIPHER'"
            ],
            "application/vnd.google.colaboratory.intrinsic+json": {
              "type": "string"
            }
          },
          "metadata": {},
          "execution_count": 6
        }
      ]
    }
  ]
}