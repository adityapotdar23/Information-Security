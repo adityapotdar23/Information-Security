{
  "nbformat": 4,
  "nbformat_minor": 0,
  "metadata": {
    "colab": {
      "provenance": []
    },
    "kernelspec": {
      "name": "python3",
      "display_name": "Python 3"
    },
    "language_info": {
      "name": "python"
    }
  },
  "cells": [
    {
      "cell_type": "markdown",
      "source": [
        "**By Aditya Potdar**"
      ],
      "metadata": {
        "id": "gF0XCsz8YkBa"
      }
    },
    {
      "cell_type": "code",
      "execution_count": null,
      "metadata": {
        "id": "bV6ZsfzK9MtK"
      },
      "outputs": [],
      "source": [
        "# p = input(\"Enter string: \"); \n",
        "p = \"superman\" \n",
        "q = \"batman\""
      ]
    },
    {
      "cell_type": "code",
      "source": [
        "n_p = len(p) \n",
        "n_q = len(q) "
      ],
      "metadata": {
        "id": "FoLhm9oV9wKI"
      },
      "execution_count": null,
      "outputs": []
    },
    {
      "cell_type": "code",
      "source": [
        "def convert(n):\n",
        "  if n!=2 or n!=3:\n",
        "    prime_no = [];\n",
        "    for i in range(2, n+1): \n",
        "      c = 1\n",
        "      for j in range(2, i+1):\n",
        "        if(i%j)==0: \n",
        "          c +=1 \n",
        "      if(c==2): \n",
        "        prime_no.append(j);  \n",
        "    return prime_no"
      ],
      "metadata": {
        "id": "RnYeVnM19_Fm"
      },
      "execution_count": null,
      "outputs": []
    },
    {
      "cell_type": "code",
      "source": [
        "prime_p = convert(n_p)[-1]\n",
        "prime_q = convert(n_q)[-1]"
      ],
      "metadata": {
        "id": "efB8329G_6mS"
      },
      "execution_count": null,
      "outputs": []
    },
    {
      "cell_type": "code",
      "source": [
        "# P\n",
        "prime_p"
      ],
      "metadata": {
        "colab": {
          "base_uri": "https://localhost:8080/"
        },
        "id": "IynbWBfL_9ZT",
        "outputId": "519c2359-6707-4644-ca72-3c7d299f0219"
      },
      "execution_count": null,
      "outputs": [
        {
          "output_type": "execute_result",
          "data": {
            "text/plain": [
              "7"
            ]
          },
          "metadata": {},
          "execution_count": 29
        }
      ]
    },
    {
      "cell_type": "code",
      "source": [
        "# Q\n",
        "prime_q"
      ],
      "metadata": {
        "colab": {
          "base_uri": "https://localhost:8080/"
        },
        "id": "0dC1MRCfBs66",
        "outputId": "27fd55c7-6453-424c-8fcb-d7b6f174c086"
      },
      "execution_count": null,
      "outputs": [
        {
          "output_type": "execute_result",
          "data": {
            "text/plain": [
              "5"
            ]
          },
          "metadata": {},
          "execution_count": 30
        }
      ]
    },
    {
      "cell_type": "code",
      "source": [
        "# Calculate n\n",
        "n = prime_p*prime_q \n",
        "print(n)"
      ],
      "metadata": {
        "colab": {
          "base_uri": "https://localhost:8080/"
        },
        "id": "LSXiUa64Btj2",
        "outputId": "c597bf63-9cfc-46e9-8c2e-f55b4d8ff6c0"
      },
      "execution_count": null,
      "outputs": [
        {
          "output_type": "stream",
          "name": "stdout",
          "text": [
            "35\n"
          ]
        }
      ]
    },
    {
      "cell_type": "code",
      "source": [
        "# Totient Function (phi)\n",
        "phi = (prime_p-1)*(prime_q-1) \n",
        "print(phi)"
      ],
      "metadata": {
        "colab": {
          "base_uri": "https://localhost:8080/"
        },
        "id": "HXdI4BE_B2jP",
        "outputId": "408d2918-0d44-4caf-d243-87bac616d7ac"
      },
      "execution_count": null,
      "outputs": [
        {
          "output_type": "stream",
          "name": "stdout",
          "text": [
            "24\n"
          ]
        }
      ]
    },
    {
      "cell_type": "code",
      "source": [
        "# Find e\n",
        "from math import gcd\n",
        "e = [] \n",
        "for i in range(2, phi): \n",
        "  if(gcd(i, phi))==1: \n",
        "    e.append(i)  \n",
        "print(e)"
      ],
      "metadata": {
        "colab": {
          "base_uri": "https://localhost:8080/"
        },
        "id": "OmZw5JiBB7au",
        "outputId": "37c66732-1975-4c7e-ebfe-cace294ac55e"
      },
      "execution_count": null,
      "outputs": [
        {
          "output_type": "stream",
          "name": "stdout",
          "text": [
            "[5, 7, 11, 13, 17, 19, 23]\n"
          ]
        }
      ]
    },
    {
      "cell_type": "code",
      "source": [
        "if prime_p in e:\n",
        "  e.remove(prime_p) \n",
        "if prime_q in e:\n",
        "  e.remove(prime_q)"
      ],
      "metadata": {
        "id": "-Ru_KEUUO7CA"
      },
      "execution_count": null,
      "outputs": []
    },
    {
      "cell_type": "code",
      "source": [
        "d = 1\n",
        "def compute_d(i, d):\n",
        "  # print(i)\n",
        "  while((d*i)%phi)!=1:\n",
        "    d = d + 1 \n",
        "  if(f_d==i):\n",
        "    return compute_d(i, d+1), i\n",
        "  else:\n",
        "    return f_d, i"
      ],
      "metadata": {
        "id": "84xMngZoEt6S"
      },
      "execution_count": null,
      "outputs": []
    },
    {
      "cell_type": "code",
      "source": [
        "for i in e:\n",
        "  f_d, f_e = compute_d(i, 1)\n",
        "  if(f_d>phi):\n",
        "    continue \n",
        "  else:\n",
        "    break\n",
        "print(f_e)\n",
        "print(f_d)"
      ],
      "metadata": {
        "colab": {
          "base_uri": "https://localhost:8080/"
        },
        "id": "xYyjR4ChCliX",
        "outputId": "80294b55-bb6a-4705-dc7b-c9ea637d055d"
      },
      "execution_count": null,
      "outputs": [
        {
          "output_type": "stream",
          "name": "stdout",
          "text": [
            "11\n",
            "11\n",
            "5\n"
          ]
        }
      ]
    },
    {
      "cell_type": "code",
      "source": [
        "# Encryption \n",
        "pt = 3669 \n",
        "if(pt>n): \n",
        "  pt = pt%n \n",
        "print(pt)\n",
        "ct = (pt**f_e)%n \n",
        "print(ct)"
      ],
      "metadata": {
        "colab": {
          "base_uri": "https://localhost:8080/"
        },
        "id": "zMK-HwJuHSYd",
        "outputId": "f6630823-ce03-4a63-84f0-07d05461a707"
      },
      "execution_count": null,
      "outputs": [
        {
          "output_type": "stream",
          "name": "stdout",
          "text": [
            "29\n",
            "29\n"
          ]
        }
      ]
    },
    {
      "cell_type": "code",
      "source": [
        "# Decryption \n",
        "pt = (ct**d)%n \n",
        "print(pt)"
      ],
      "metadata": {
        "colab": {
          "base_uri": "https://localhost:8080/"
        },
        "id": "bFgJOPm6QAMO",
        "outputId": "7b2e5fa0-c5c4-419a-c350-3f751fed80e1"
      },
      "execution_count": null,
      "outputs": [
        {
          "output_type": "stream",
          "name": "stdout",
          "text": [
            "29\n"
          ]
        }
      ]
    }
  ]
}