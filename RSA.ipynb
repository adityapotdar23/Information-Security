{
  "nbformat": 4,
  "nbformat_minor": 0,
  "metadata": {
    "colab": {
      "provenance": []
    },
    "kernelspec": {
      "name": "python3",
      "display_name": "Python 3"
    },
    "language_info": {
      "name": "python"
    }
  },
  "cells": [
    {
      "cell_type": "markdown",
      "source": [
        "**By Aditya Potdar**"
      ],
      "metadata": {
        "id": "gF0XCsz8YkBa"
      }
    },
    {
      "cell_type": "code",
      "execution_count": 1,
      "metadata": {
        "id": "bV6ZsfzK9MtK"
      },
      "outputs": [],
      "source": [
        "# p = input(\"Enter string: \"); \n",
        "p = \"superman\" \n",
        "q = \"batman\""
      ]
    },
    {
      "cell_type": "code",
      "source": [
        "n_p = len(p) \n",
        "n_q = len(q) "
      ],
      "metadata": {
        "id": "FoLhm9oV9wKI"
      },
      "execution_count": 2,
      "outputs": []
    },
    {
      "cell_type": "code",
      "source": [
        "def convert(n):\n",
        "  if n!=2 or n!=3:\n",
        "    prime_no = [];\n",
        "    for i in range(2, n+1): \n",
        "      c = 1\n",
        "      for j in range(2, i+1):\n",
        "        if(i%j)==0: \n",
        "          c +=1 \n",
        "      if(c==2): \n",
        "        prime_no.append(j);  \n",
        "    return prime_no"
      ],
      "metadata": {
        "id": "RnYeVnM19_Fm"
      },
      "execution_count": 3,
      "outputs": []
    },
    {
      "cell_type": "code",
      "source": [
        "prime_p = convert(n_p)[-1]\n",
        "prime_q = convert(n_q)[-1]"
      ],
      "metadata": {
        "id": "efB8329G_6mS"
      },
      "execution_count": 4,
      "outputs": []
    },
    {
      "cell_type": "code",
      "source": [
        "# P\n",
        "prime_p"
      ],
      "metadata": {
        "colab": {
          "base_uri": "https://localhost:8080/"
        },
        "id": "IynbWBfL_9ZT",
        "outputId": "caf48947-24db-4e4d-9f91-bb2c37986ad8"
      },
      "execution_count": 5,
      "outputs": [
        {
          "output_type": "execute_result",
          "data": {
            "text/plain": [
              "7"
            ]
          },
          "metadata": {},
          "execution_count": 5
        }
      ]
    },
    {
      "cell_type": "code",
      "source": [
        "# Q\n",
        "prime_q"
      ],
      "metadata": {
        "colab": {
          "base_uri": "https://localhost:8080/"
        },
        "id": "0dC1MRCfBs66",
        "outputId": "3d9b7f85-67f8-4f43-e285-fa71f1f18d78"
      },
      "execution_count": 6,
      "outputs": [
        {
          "output_type": "execute_result",
          "data": {
            "text/plain": [
              "5"
            ]
          },
          "metadata": {},
          "execution_count": 6
        }
      ]
    },
    {
      "cell_type": "code",
      "source": [
        "# Calculate n\n",
        "n = prime_p*prime_q \n",
        "print(n)"
      ],
      "metadata": {
        "colab": {
          "base_uri": "https://localhost:8080/"
        },
        "id": "LSXiUa64Btj2",
        "outputId": "0069ac4e-3e72-43ac-c040-c6e9c28635aa"
      },
      "execution_count": 7,
      "outputs": [
        {
          "output_type": "stream",
          "name": "stdout",
          "text": [
            "35\n"
          ]
        }
      ]
    },
    {
      "cell_type": "code",
      "source": [
        "# Totient Function (phi)\n",
        "phi = (prime_p-1)*(prime_q-1) \n",
        "print(phi)"
      ],
      "metadata": {
        "colab": {
          "base_uri": "https://localhost:8080/"
        },
        "id": "HXdI4BE_B2jP",
        "outputId": "1af8a25e-fb48-4a48-8882-87f97907e4ba"
      },
      "execution_count": 8,
      "outputs": [
        {
          "output_type": "stream",
          "name": "stdout",
          "text": [
            "24\n"
          ]
        }
      ]
    },
    {
      "cell_type": "code",
      "source": [
        "# Find e\n",
        "from math import gcd\n",
        "e = [] \n",
        "for i in range(2, phi): \n",
        "  if(gcd(i, phi))==1: \n",
        "    e.append(i)  \n",
        "print(e)"
      ],
      "metadata": {
        "colab": {
          "base_uri": "https://localhost:8080/"
        },
        "id": "OmZw5JiBB7au",
        "outputId": "41b44d98-d6fe-4c3a-cae5-7da0fe7254c0"
      },
      "execution_count": 9,
      "outputs": [
        {
          "output_type": "stream",
          "name": "stdout",
          "text": [
            "[5, 7, 11, 13, 17, 19, 23]\n"
          ]
        }
      ]
    },
    {
      "cell_type": "code",
      "source": [
        "if prime_p in e:\n",
        "  e.remove(prime_p) \n",
        "if prime_q in e:\n",
        "  e.remove(prime_q)"
      ],
      "metadata": {
        "id": "-Ru_KEUUO7CA"
      },
      "execution_count": 10,
      "outputs": []
    },
    {
      "cell_type": "code",
      "source": [
        "d = 1\n",
        "def compute_d(i, d):\n",
        "  # print(i)\n",
        "  while((d*i)%phi)!=1:\n",
        "    d = d + 1  \n",
        "  if(d==i):\n",
        "    return compute_d(i, d+1)\n",
        "  else:\n",
        "    return d, i"
      ],
      "metadata": {
        "id": "84xMngZoEt6S"
      },
      "execution_count": 30,
      "outputs": []
    },
    {
      "cell_type": "code",
      "source": [
        "for i in e:\n",
        "  f_d, f_e = compute_d(i, 1)\n",
        "  if(f_d>phi):\n",
        "    continue \n",
        "  else:\n",
        "    break\n",
        "print(f_e)\n",
        "print(f_d)"
      ],
      "metadata": {
        "colab": {
          "base_uri": "https://localhost:8080/"
        },
        "id": "xYyjR4ChCliX",
        "outputId": "ac62aa99-6d21-4db7-b433-c538cb36a445"
      },
      "execution_count": 31,
      "outputs": [
        {
          "output_type": "stream",
          "name": "stdout",
          "text": [
            "23\n",
            "47\n"
          ]
        }
      ]
    },
    {
      "cell_type": "code",
      "source": [
        "# Encryption \n",
        "pt = 3669 \n",
        "if(pt>n): \n",
        "  pt = pt%n \n",
        "print(pt)\n",
        "ct = (pt**f_e)%n \n",
        "print(ct)"
      ],
      "metadata": {
        "colab": {
          "base_uri": "https://localhost:8080/"
        },
        "id": "zMK-HwJuHSYd",
        "outputId": "d7cb892e-a21a-4d60-8791-de2737fb05ee"
      },
      "execution_count": 32,
      "outputs": [
        {
          "output_type": "stream",
          "name": "stdout",
          "text": [
            "29\n",
            "29\n"
          ]
        }
      ]
    },
    {
      "cell_type": "code",
      "source": [
        "# Decryption \n",
        "pt = (ct**f_d)%n \n",
        "print(pt)"
      ],
      "metadata": {
        "colab": {
          "base_uri": "https://localhost:8080/"
        },
        "id": "bFgJOPm6QAMO",
        "outputId": "d6eaf393-4ce7-46a0-e729-de7991007db5"
      },
      "execution_count": 33,
      "outputs": [
        {
          "output_type": "stream",
          "name": "stdout",
          "text": [
            "29\n"
          ]
        }
      ]
    },
    {
      "cell_type": "code",
      "source": [],
      "metadata": {
        "id": "TIIg32BqrGLr"
      },
      "execution_count": null,
      "outputs": []
    }
  ]
}