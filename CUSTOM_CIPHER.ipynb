{
  "nbformat": 4,
  "nbformat_minor": 0,
  "metadata": {
    "colab": {
      "provenance": []
    },
    "kernelspec": {
      "name": "python3",
      "display_name": "Python 3"
    },
    "language_info": {
      "name": "python"
    }
  },
  "cells": [
    {
      "cell_type": "markdown",
      "source": [
        "###Substitution\n",
        "LEFTOUT CIPHER"
      ],
      "metadata": {
        "id": "gZPhTjkmWidO"
      }
    },
    {
      "cell_type": "code",
      "source": [
        "import random \n",
        "import string"
      ],
      "metadata": {
        "id": "Bo4wTXCpQUeq"
      },
      "execution_count": null,
      "outputs": []
    },
    {
      "cell_type": "code",
      "source": [
        "l = []\n",
        "while len(l)!=26:\n",
        "    n = random.randint(ord('A'),ord('Z'))\n",
        "    if(chr(n) not in l):\n",
        "        l.append(chr(n))\n",
        "print(l)"
      ],
      "metadata": {
        "colab": {
          "base_uri": "https://localhost:8080/"
        },
        "id": "FQC_m5_8Wmdi",
        "outputId": "e71ae4fc-9d89-49bf-e011-f70e45aec1c0"
      },
      "execution_count": null,
      "outputs": [
        {
          "output_type": "stream",
          "name": "stdout",
          "text": [
            "['J', 'W', 'Y', 'T', 'V', 'O', 'F', 'K', 'E', 'N', 'H', 'M', 'L', 'G', 'U', 'R', 'B', 'S', 'D', 'I', 'Z', 'Q', 'C', 'A', 'X', 'P']\n"
          ]
        }
      ]
    },
    {
      "cell_type": "code",
      "source": [
        "l1 = []\n",
        "while(len(l1)!=26):\n",
        "    n = random.randint(ord('a'),ord('z'))\n",
        "    if(chr(n) not in l1):\n",
        "        l1.append(chr(n))\n",
        "print(l1)"
      ],
      "metadata": {
        "colab": {
          "base_uri": "https://localhost:8080/"
        },
        "id": "Wa5lAc3rWqBe",
        "outputId": "0988bc98-9ac0-479e-b354-e44448ec14f6"
      },
      "execution_count": null,
      "outputs": [
        {
          "output_type": "stream",
          "name": "stdout",
          "text": [
            "['l', 'g', 'f', 'w', 'a', 'n', 'o', 's', 'u', 'h', 'c', 'z', 'd', 'x', 'p', 't', 'b', 'j', 'i', 'y', 'm', 'r', 'q', 'e', 'v', 'k']\n"
          ]
        }
      ]
    },
    {
      "cell_type": "code",
      "source": [
        "# sub cipher\n",
        "s = l + l1\n",
        "r = list(string.ascii_uppercase+string.ascii_lowercase)\n",
        "print(r)\n",
        "d = {}\n",
        "for i in range(len(s)):\n",
        "    d[r[i]] = s[i]\n",
        "\n",
        "dr={}\n",
        "for i in range(len(s)):\n",
        "    dr[s[i]]=r[i]\n",
        "print(d)\n",
        "print(dr)"
      ],
      "metadata": {
        "id": "1Lmt7wGvWr6_",
        "colab": {
          "base_uri": "https://localhost:8080/"
        },
        "outputId": "fe9c5397-a16b-4d8a-c87c-b125e40bc0d9"
      },
      "execution_count": null,
      "outputs": [
        {
          "output_type": "stream",
          "name": "stdout",
          "text": [
            "['A', 'B', 'C', 'D', 'E', 'F', 'G', 'H', 'I', 'J', 'K', 'L', 'M', 'N', 'O', 'P', 'Q', 'R', 'S', 'T', 'U', 'V', 'W', 'X', 'Y', 'Z', 'a', 'b', 'c', 'd', 'e', 'f', 'g', 'h', 'i', 'j', 'k', 'l', 'm', 'n', 'o', 'p', 'q', 'r', 's', 't', 'u', 'v', 'w', 'x', 'y', 'z']\n",
            "{'A': 'J', 'B': 'W', 'C': 'Y', 'D': 'T', 'E': 'V', 'F': 'O', 'G': 'F', 'H': 'K', 'I': 'E', 'J': 'N', 'K': 'H', 'L': 'M', 'M': 'L', 'N': 'G', 'O': 'U', 'P': 'R', 'Q': 'B', 'R': 'S', 'S': 'D', 'T': 'I', 'U': 'Z', 'V': 'Q', 'W': 'C', 'X': 'A', 'Y': 'X', 'Z': 'P', 'a': 'l', 'b': 'g', 'c': 'f', 'd': 'w', 'e': 'a', 'f': 'n', 'g': 'o', 'h': 's', 'i': 'u', 'j': 'h', 'k': 'c', 'l': 'z', 'm': 'd', 'n': 'x', 'o': 'p', 'p': 't', 'q': 'b', 'r': 'j', 's': 'i', 't': 'y', 'u': 'm', 'v': 'r', 'w': 'q', 'x': 'e', 'y': 'v', 'z': 'k'}\n",
            "{'J': 'A', 'W': 'B', 'Y': 'C', 'T': 'D', 'V': 'E', 'O': 'F', 'F': 'G', 'K': 'H', 'E': 'I', 'N': 'J', 'H': 'K', 'M': 'L', 'L': 'M', 'G': 'N', 'U': 'O', 'R': 'P', 'B': 'Q', 'S': 'R', 'D': 'S', 'I': 'T', 'Z': 'U', 'Q': 'V', 'C': 'W', 'A': 'X', 'X': 'Y', 'P': 'Z', 'l': 'a', 'g': 'b', 'f': 'c', 'w': 'd', 'a': 'e', 'n': 'f', 'o': 'g', 's': 'h', 'u': 'i', 'h': 'j', 'c': 'k', 'z': 'l', 'd': 'm', 'x': 'n', 'p': 'o', 't': 'p', 'b': 'q', 'j': 'r', 'i': 's', 'y': 't', 'm': 'u', 'r': 'v', 'q': 'w', 'e': 'x', 'v': 'y', 'k': 'z'}\n"
          ]
        }
      ]
    },
    {
      "cell_type": "code",
      "source": [
        "# encryption\n",
        "def enc(pt):\n",
        "  en = ''\n",
        "  for i in pt:\n",
        "      if i in d:\n",
        "          en += d[i]\n",
        "      elif i==' ':\n",
        "          en += '!'\n",
        "      else:\n",
        "          en += '#'\n",
        "  print(en)\n",
        "  return en"
      ],
      "metadata": {
        "id": "6QB-rMsZWurL"
      },
      "execution_count": null,
      "outputs": []
    },
    {
      "cell_type": "code",
      "source": [
        "# decryption\n",
        "def decr(ct):\n",
        "  dec = ''\n",
        "  for i in ct:\n",
        "      if i in dr:\n",
        "          dec += dr[i]\n",
        "      elif i=='!':\n",
        "          dec += \" \"\n",
        "      else:\n",
        "          dec += '#'\n",
        "  print(dec)"
      ],
      "metadata": {
        "id": "gTBFMe1GWzJP"
      },
      "execution_count": null,
      "outputs": []
    },
    {
      "cell_type": "code",
      "source": [
        "a = enc('Hello there')"
      ],
      "metadata": {
        "colab": {
          "base_uri": "https://localhost:8080/"
        },
        "id": "csF3JN0pW2a7",
        "outputId": "4b70c198-c3c9-4a56-d249-fb2c0e2675d2"
      },
      "execution_count": null,
      "outputs": [
        {
          "output_type": "stream",
          "name": "stdout",
          "text": [
            "Kazzp!ysaja\n"
          ]
        }
      ]
    },
    {
      "cell_type": "code",
      "source": [
        "b = decr(a)"
      ],
      "metadata": {
        "colab": {
          "base_uri": "https://localhost:8080/"
        },
        "id": "_ZXfJY8QYqDQ",
        "outputId": "24d6f46d-dd4d-4ffc-c2ad-eb373a2211bd"
      },
      "execution_count": null,
      "outputs": [
        {
          "output_type": "stream",
          "name": "stdout",
          "text": [
            "Hello there\n"
          ]
        }
      ]
    },
    {
      "cell_type": "markdown",
      "source": [
        "###Transposition\n",
        "OUTLEFT CIPHER"
      ],
      "metadata": {
        "id": "9WdrTjnDY9Ce"
      }
    },
    {
      "cell_type": "code",
      "source": [
        "import random\n",
        "pt=\"i love you 3000\"\n",
        "e=[]\n",
        "while len(e)!=len(pt):\n",
        "  n=random.randint(0,len(pt)-1)\n",
        "  if n not in e:\n",
        "    e.append(n)\n",
        "print(e)"
      ],
      "metadata": {
        "id": "sziKJIEMY_sN",
        "colab": {
          "base_uri": "https://localhost:8080/"
        },
        "outputId": "5d498e6c-e44d-4324-cf63-9ef40499d674"
      },
      "execution_count": null,
      "outputs": [
        {
          "output_type": "stream",
          "name": "stdout",
          "text": [
            "[9, 12, 6, 3, 4, 11, 14, 5, 10, 13, 8, 0, 1, 2, 7]\n"
          ]
        }
      ]
    },
    {
      "cell_type": "code",
      "source": [
        "ct=''\n",
        "for i in range(len(pt)):\n",
        "  ct+=pt[e.index(i)]\n",
        "ct"
      ],
      "metadata": {
        "colab": {
          "base_uri": "https://localhost:8080/",
          "height": 36
        },
        "id": "gP_O52kRdB8B",
        "outputId": "8d4ae582-9ced-431b-e581-9b591a198bf4"
      },
      "execution_count": null,
      "outputs": [
        {
          "output_type": "execute_result",
          "data": {
            "text/plain": [
              "'300ovyl0 ioe u '"
            ],
            "application/vnd.google.colaboratory.intrinsic+json": {
              "type": "string"
            }
          },
          "metadata": {},
          "execution_count": 160
        }
      ]
    },
    {
      "cell_type": "code",
      "source": [
        "pt=''\n",
        "for i in e:\n",
        "  pt+=ct[i]\n",
        "pt"
      ],
      "metadata": {
        "colab": {
          "base_uri": "https://localhost:8080/",
          "height": 36
        },
        "id": "I9opR3asdI5W",
        "outputId": "08b998c0-9905-4d14-e8d5-b8d4490f85e4"
      },
      "execution_count": null,
      "outputs": [
        {
          "output_type": "execute_result",
          "data": {
            "text/plain": [
              "'i love you 3000'"
            ],
            "application/vnd.google.colaboratory.intrinsic+json": {
              "type": "string"
            }
          },
          "metadata": {},
          "execution_count": 161
        }
      ]
    },
    {
      "cell_type": "code",
      "source": [],
      "metadata": {
        "id": "VQSE82s-kN6I"
      },
      "execution_count": null,
      "outputs": []
    }
  ]
}