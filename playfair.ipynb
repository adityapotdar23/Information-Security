{
  "cells": [
    {
      "cell_type": "code",
      "source": [
        "pt=\"iinstruumentss\"\n",
        "key=\"monarccchy\"\n",
        "mat=[]\n",
        "key_list=[]\n",
        "for i in key:\n",
        "  if i not in key_list:\n",
        "    key_list.append(i)\n",
        "print(len(key_list))\n",
        "key_list"
      ],
      "metadata": {
        "id": "5tXTHl70_jJ7",
        "colab": {
          "base_uri": "https://localhost:8080/"
        },
        "outputId": "537740fd-f7e7-4830-c990-4ba040a1d575"
      },
      "execution_count": null,
      "outputs": [
        {
          "output_type": "stream",
          "name": "stdout",
          "text": [
            "8\n"
          ]
        },
        {
          "output_type": "execute_result",
          "data": {
            "text/plain": [
              "['m', 'o', 'n', 'a', 'r', 'c', 'h', 'y']"
            ]
          },
          "metadata": {},
          "execution_count": 4
        }
      ]
    },
    {
      "cell_type": "code",
      "source": [
        "pt_list=list(pt)\n",
        "extra=1\n",
        "for i in range(len(pt)-1):\n",
        "  if pt[i]==pt[i+1]:\n",
        "    pt_list.insert(i+extra,'x')\n",
        "    extra+=1\n",
        "if(len(pt_list)%2!=0):\n",
        "  pt_list.append('x')\n",
        "print(pt_list)\n",
        "variables=[chr(i) for i in range(97,123) if chr(i) not in key_list]\n",
        "variables.remove('j')\n",
        "final=key_list+variables\n",
        "for i in range(0,25,5):\n",
        "  mat.append(final[i:i+5])\n",
        "mat"
      ],
      "metadata": {
        "colab": {
          "base_uri": "https://localhost:8080/"
        },
        "id": "nnoS9A_x3jpX",
        "outputId": "dad0771c-b225-488a-f09d-54d54202c5e8"
      },
      "execution_count": null,
      "outputs": [
        {
          "output_type": "stream",
          "name": "stdout",
          "text": [
            "['i', 'x', 'i', 'n', 's', 't', 'r', 'u', 'x', 'u', 'm', 'e', 'n', 't', 's', 'x', 's', 'x']\n"
          ]
        },
        {
          "output_type": "execute_result",
          "data": {
            "text/plain": [
              "[['m', 'o', 'n', 'a', 'r'],\n",
              " ['c', 'h', 'y', 'b', 'd'],\n",
              " ['e', 'f', 'g', 'i', 'k'],\n",
              " ['l', 'p', 'q', 's', 't'],\n",
              " ['u', 'v', 'w', 'x', 'z']]"
            ]
          },
          "metadata": {},
          "execution_count": 5
        }
      ]
    },
    {
      "cell_type": "code",
      "source": [
        "def search(a):\n",
        "  if a=='j':\n",
        "    a='i'\n",
        "  for i in range(len(mat)):\n",
        "    for j in range(len(mat[0])):\n",
        "      if a==mat[i][j]:\n",
        "        return i,j"
      ],
      "metadata": {
        "id": "1HibflB5L1q8"
      },
      "execution_count": null,
      "outputs": []
    },
    {
      "cell_type": "code",
      "source": [
        "ans=''\n",
        "for i in range(0,len(pt_list),2):\n",
        "  a,b=pt_list[i],pt_list[i+1]\n",
        "  print(a,b)\n",
        "  ai,aj=search(a)\n",
        "  bi,bj=search(b)\n",
        "  if ai==bi:\n",
        "    ans+=mat[ai][(aj+1)%5]\n",
        "    ans+=mat[ai][(bj+1)%5]\n",
        "  elif aj==bj:\n",
        "    ans+=mat[(ai+1)%5][aj]\n",
        "    ans+=mat[(bi+1)%5][aj]\n",
        "  else:\n",
        "    ans+=mat[ai][bj]\n",
        "    ans+=mat[bi][aj]\n",
        "print(ans)\n",
        "mat"
      ],
      "metadata": {
        "colab": {
          "base_uri": "https://localhost:8080/"
        },
        "id": "F-0r5KNQLMbU",
        "outputId": "14b7430a-2806-4d00-d6cc-404593da71e5"
      },
      "execution_count": null,
      "outputs": [
        {
          "output_type": "stream",
          "name": "stdout",
          "text": [
            "i x\n",
            "i n\n",
            "s t\n",
            "r u\n",
            "x u\n",
            "m e\n",
            "n t\n",
            "s x\n",
            "s x\n",
            "sagatlmzzvclrqxaxa\n"
          ]
        },
        {
          "output_type": "execute_result",
          "data": {
            "text/plain": [
              "[['m', 'o', 'n', 'a', 'r'],\n",
              " ['c', 'h', 'y', 'b', 'd'],\n",
              " ['e', 'f', 'g', 'i', 'k'],\n",
              " ['l', 'p', 'q', 's', 't'],\n",
              " ['u', 'v', 'w', 'x', 'z']]"
            ]
          },
          "metadata": {},
          "execution_count": 121
        }
      ]
    },
    {
      "cell_type": "code",
      "source": [
        "pt=''\n",
        "pt_list=list(ans)\n",
        "for i in range(0,len(pt_list),2):\n",
        "  a,b=pt_list[i],pt_list[i+1]\n",
        "  print(a,b)\n",
        "  ai,aj=search(a)\n",
        "  bi,bj=search(b)\n",
        "  if ai==bi:\n",
        "    pt+=mat[ai][(aj-1)%5]\n",
        "    pt+=mat[ai][(bj-1)%5]\n",
        "  elif aj==bj:\n",
        "    pt+=mat[(ai-1)%5][aj]\n",
        "    pt+=mat[(bi-1)%5][aj]\n",
        "  else:\n",
        "    pt+=mat[ai][bj]\n",
        "    pt+=mat[bi][aj]\n",
        "print(pt)"
      ],
      "metadata": {
        "colab": {
          "base_uri": "https://localhost:8080/"
        },
        "id": "S3dUiXvJPbP8",
        "outputId": "f6913ab9-914a-4be8-fa72-2640c04c4cf6"
      },
      "execution_count": null,
      "outputs": [
        {
          "output_type": "stream",
          "name": "stdout",
          "text": [
            "s a\n",
            "g a\n",
            "t l\n",
            "m z\n",
            "z v\n",
            "c l\n",
            "r q\n",
            "x a\n",
            "x a\n",
            "ixinstruxumentsxsx\n"
          ]
        }
      ]
    }
  ],
  "metadata": {
    "kernelspec": {
      "display_name": "base",
      "language": "python",
      "name": "python3"
    },
    "language_info": {
      "codemirror_mode": {
        "name": "ipython",
        "version": 3
      },
      "file_extension": ".py",
      "mimetype": "text/x-python",
      "name": "python",
      "nbconvert_exporter": "python",
      "pygments_lexer": "ipython3",
      "version": "3.8.8"
    },
    "orig_nbformat": 4,
    "vscode": {
      "interpreter": {
        "hash": "ed48bbe6901af0dc6c0b1ba0398ca2f757978f8fe52893c404caad807bf459ad"
      }
    },
    "colab": {
      "provenance": []
    }
  },
  "nbformat": 4,
  "nbformat_minor": 0
}