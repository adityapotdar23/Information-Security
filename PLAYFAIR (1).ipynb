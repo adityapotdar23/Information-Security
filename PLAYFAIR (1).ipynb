{
  "cells": [
    {
      "cell_type": "markdown",
      "source": [
        "**By Aditya Potdar**"
      ],
      "metadata": {
        "id": "f7kzezhkYbB4"
      }
    },
    {
      "cell_type": "code",
      "execution_count": null,
      "metadata": {
        "id": "6od_K6kW2aer"
      },
      "outputs": [],
      "source": [
        "pt=\"instruments\"\n",
        "key=\"monarchy\""
      ]
    },
    {
      "cell_type": "code",
      "execution_count": null,
      "metadata": {
        "id": "ykj5WsFV2aev"
      },
      "outputs": [],
      "source": [
        "def pfinaltext(pt):\n",
        "    n=len(pt)\n",
        "    pt_final=list(pt)\n",
        "    for i in range(n-1):\n",
        "        # print(pt[i])\n",
        "        if pt[i]==pt[i+1]:\n",
        "            pt_final.insert(i+1,\"x\")\n",
        "    if len(pt_final)%2!=0:\n",
        "        pt_final.append(\"x\")\n",
        "    return pt_final"
      ]
    },
    {
      "cell_type": "code",
      "execution_count": null,
      "metadata": {
        "id": "WbGHx4F72aew"
      },
      "outputs": [],
      "source": [
        "abc_arr=[chr(x)  for x in range(97,97+26)]\n",
        "# abc_arr\n",
        "pt_final=pfinaltext(key)"
      ]
    },
    {
      "cell_type": "code",
      "execution_count": null,
      "metadata": {
        "id": "5RlNU0D42aew",
        "outputId": "2ab26cae-8ea2-4172-cb83-ec80f52d2462"
      },
      "outputs": [
        {
          "data": {
            "text/plain": [
              "['m', 'o', 'n', 'a', 'r', 'c', 'h', 'y']"
            ]
          },
          "execution_count": 52,
          "metadata": {},
          "output_type": "execute_result"
        }
      ],
      "source": [
        "pt=pfinaltext(pt)\n",
        "pt_final\n"
      ]
    },
    {
      "cell_type": "code",
      "execution_count": null,
      "metadata": {
        "id": "PgpENcNs2aey",
        "outputId": "63347efd-da33-4c8d-fca4-0f5c27519657"
      },
      "outputs": [
        {
          "data": {
            "text/plain": [
              "[['m', 'o', 'n', 'a', 'r'],\n",
              " ['c', 'h', 'y', 'b', 'd'],\n",
              " ['e', 'f', 'g', 'i/j', 'k'],\n",
              " ['l', 'p', 'q', 's', 't'],\n",
              " ['u', 'v', 'w', 'x', 'z']]"
            ]
          },
          "execution_count": 53,
          "metadata": {},
          "output_type": "execute_result"
        }
      ],
      "source": [
        "matrix=[]\n",
        "filled_list=[]\n",
        "for i in list(pt_final):\n",
        "    if i not in filled_list:\n",
        "        filled_list.append(i)\n",
        "for i in abc_arr:\n",
        "    if i not in filled_list:\n",
        "        if i==\"i\" and \"j\" not in filled_list:\n",
        "            filled_list.append(\"i/j\")\n",
        "            continue\n",
        "        if i==\"j\":\n",
        "            continue\n",
        "        if i==\"x\" and \"y\" not in filled_list:   \n",
        "            filled_list.append(\"x/y\")\n",
        "            filled_list.append(\"z\")\n",
        "            break\n",
        "        else:\n",
        "            filled_list.append(i)\n",
        "compli=[0,5,10,15,20]\n",
        "for i in compli:\n",
        "    matrix.append(filled_list[i:i+5])\n",
        "matrix"
      ]
    },
    {
      "cell_type": "code",
      "execution_count": null,
      "metadata": {
        "id": "KvqaP9yn2aez",
        "outputId": "6bb789fd-7303-4e5f-b2f8-c8b5c92f1cd9"
      },
      "outputs": [
        {
          "data": {
            "text/plain": [
              "'i'"
            ]
          },
          "execution_count": 72,
          "metadata": {},
          "output_type": "execute_result"
        }
      ],
      "source": [
        "matrix[2][3][0]"
      ]
    },
    {
      "cell_type": "code",
      "execution_count": null,
      "metadata": {
        "id": "4ydofBZk2ae0"
      },
      "outputs": [],
      "source": [
        "def search(mat, element):\n",
        "    for i in range(5):\n",
        "        for j in range(5):\n",
        "            if(mat[i][j] == element):\n",
        "                return i, j\n",
        "            elif(len(mat[i][j])==3 and element==\"i\" or element==\"j\"):\n",
        "                # if( or mat[i][j][2]==\"j\"):\n",
        "                # if(mat[i][j]==\"i\" or mat[i][j]==\"j\"):\n",
        "                return i,j"
      ]
    },
    {
      "cell_type": "code",
      "execution_count": null,
      "metadata": {
        "id": "WcvMa19t2ae1",
        "outputId": "42c64c96-7159-4bc8-a3b0-2c4b4258130e"
      },
      "outputs": [
        {
          "data": {
            "text/plain": [
              "['i', 'n', 's', 't', 'r', 'u', 'm', 'e', 'n', 't', 's', 'x']"
            ]
          },
          "execution_count": 81,
          "metadata": {},
          "output_type": "execute_result"
        }
      ],
      "source": [
        "pt"
      ]
    },
    {
      "cell_type": "code",
      "execution_count": null,
      "metadata": {
        "id": "JEKny9sG2ae2",
        "outputId": "9664a741-44d9-4a3e-c34f-bf90510893dc"
      },
      "outputs": [
        {
          "data": {
            "text/plain": [
              "'i'"
            ]
          },
          "execution_count": 97,
          "metadata": {},
          "output_type": "execute_result"
        }
      ],
      "source": [
        "# len(matrix[2][3])\n",
        "matrix[2][3][0]"
      ]
    },
    {
      "cell_type": "code",
      "execution_count": null,
      "metadata": {
        "id": "R9ZWf2oG2ae3",
        "outputId": "75c59ddb-4929-46ce-8649-ef1ae56b2f2b"
      },
      "outputs": [
        {
          "data": {
            "text/plain": [
              "(3, 3)"
            ]
          },
          "execution_count": 102,
          "metadata": {},
          "output_type": "execute_result"
        }
      ],
      "source": [
        "search(matrix,\"s\")"
      ]
    },
    {
      "cell_type": "code",
      "execution_count": null,
      "metadata": {
        "id": "hFczbEoF2ae4",
        "outputId": "504d680d-4fa1-4cfa-9018-b740e56c1b3c"
      },
      "outputs": [
        {
          "data": {
            "text/plain": [
              "'gatlmzclrqxa'"
            ]
          },
          "execution_count": 103,
          "metadata": {},
          "output_type": "execute_result"
        }
      ],
      "source": [
        "cipher_text=[]\n",
        "# pt=list(pt)\n",
        "for i in range(0,len(pt),2):\n",
        "    # print(i)\n",
        "    fele_r,fele_c=search(matrix,pt[i])\n",
        "    sele_r,sele_c=search(matrix,pt[i+1])\n",
        "    \n",
        "    if (fele_r==sele_r):\n",
        "        fele_c=fele_c+1\n",
        "        sele_c=sele_c+1\n",
        "        cipher_text.append(matrix[fele_r][fele_c%5])\n",
        "        cipher_text.append(matrix[fele_r][sele_c%5])\n",
        "    if (fele_c==sele_c):\n",
        "        fele_r=fele_r+1\n",
        "        sele_r=sele_r+1\n",
        "        cipher_text.append(matrix[fele_r%5][fele_c])\n",
        "        cipher_text.append(matrix[sele_r%5][fele_c])\n",
        "    if (fele_c!=sele_c and fele_r!=sele_r):\n",
        "        # fele_c=fele_c+1\n",
        "        # sele_c=sele_c+1\n",
        "        cipher_text.append(matrix[fele_r][sele_c])\n",
        "        cipher_text.append(matrix[sele_r][fele_c])\n",
        "\"\".join(cipher_text)\n",
        "        \n",
        "        \n",
        "    "
      ]
    },
    {
      "cell_type": "code",
      "execution_count": null,
      "metadata": {
        "id": "6Nsu59CQ2ae5"
      },
      "outputs": [],
      "source": [
        "# Cipher text: gatlmzclrqtx\n",
        "ct=\"gatlmzclrqxa\""
      ]
    },
    {
      "cell_type": "code",
      "execution_count": null,
      "metadata": {
        "id": "BhPUxlrl2ae5",
        "outputId": "6fea867d-efdf-42ee-ec6e-c5e4413b5e1d"
      },
      "outputs": [
        {
          "data": {
            "text/plain": [
              "'i/jnstrumentsx'"
            ]
          },
          "execution_count": 105,
          "metadata": {},
          "output_type": "execute_result"
        }
      ],
      "source": [
        "plain_text=[]\n",
        "# ct=list(pt)\n",
        "for i in range(0,len(ct),2):\n",
        "    # print(i)\n",
        "    fele_r,fele_c=search(matrix,ct[i])\n",
        "    sele_r,sele_c=search(matrix,ct[i+1])\n",
        "    \n",
        "    if (fele_r==sele_r):\n",
        "        fele_c=fele_c-1\n",
        "        sele_c=sele_c-1\n",
        "        plain_text.append(matrix[fele_r][fele_c%5])\n",
        "        plain_text.append(matrix[fele_r][sele_c%5])\n",
        "    if (fele_c==sele_c):\n",
        "        fele_r=fele_r-1\n",
        "        sele_r=sele_r-1\n",
        "        plain_text.append(matrix[fele_r%5][fele_c])\n",
        "        plain_text.append(matrix[sele_r%5][fele_c])\n",
        "    if (fele_c!=sele_c and fele_r!=sele_r):\n",
        "        # fele_c=fele_c+1\n",
        "        # sele_c=sele_c+1\n",
        "        plain_text.append(matrix[fele_r][sele_c])\n",
        "        plain_text.append(matrix[sele_r][fele_c])\n",
        "\"\".join(plain_text)\n",
        "        \n",
        "        \n",
        "    "
      ]
    },
    {
      "cell_type": "code",
      "execution_count": null,
      "metadata": {
        "id": "AhDZlsM32ae6",
        "outputId": "32029bea-ca31-43c8-fee3-354f39d34e53"
      },
      "outputs": [
        {
          "data": {
            "text/plain": [
              "['i', 'n', 's', 't', 'r', 'u', 'm', 'e', 'n', 't', 's', 'x']"
            ]
          },
          "execution_count": 84,
          "metadata": {},
          "output_type": "execute_result"
        }
      ],
      "source": [
        "pt"
      ]
    },
    {
      "cell_type": "code",
      "execution_count": null,
      "metadata": {
        "id": "8C8AF8V_2ae6"
      },
      "outputs": [],
      "source": [
        "search(matrix,pt[0])"
      ]
    },
    {
      "cell_type": "code",
      "execution_count": null,
      "metadata": {
        "id": "TYc9jwGk2ae6"
      },
      "outputs": [],
      "source": []
    }
  ],
  "metadata": {
    "kernelspec": {
      "display_name": "base",
      "language": "python",
      "name": "python3"
    },
    "language_info": {
      "codemirror_mode": {
        "name": "ipython",
        "version": 3
      },
      "file_extension": ".py",
      "mimetype": "text/x-python",
      "name": "python",
      "nbconvert_exporter": "python",
      "pygments_lexer": "ipython3",
      "version": "3.8.8"
    },
    "orig_nbformat": 4,
    "vscode": {
      "interpreter": {
        "hash": "ed48bbe6901af0dc6c0b1ba0398ca2f757978f8fe52893c404caad807bf459ad"
      }
    },
    "colab": {
      "provenance": []
    }
  },
  "nbformat": 4,
  "nbformat_minor": 0
}